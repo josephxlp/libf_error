{
 "cells": [
  {
   "cell_type": "code",
   "execution_count": 2,
   "metadata": {},
   "outputs": [],
   "source": [
    "import os \n",
    "import sys \n",
    "from glob import glob \n",
    "\n",
    "from upaths import libd_rsdx_dpath \n",
    "from upaths import libb_prox_dpath\n",
    "sys.path.append(libd_rsdx_dpath)\n",
    "from utils import gwr_grid_downscaling\n",
    "\n",
    "sys.path.append(libb_prox_dpath)\n",
    "from rtransforms import raster_calc\n",
    "\n",
    "from upaths import tls_spath,tls_bpath,mkd_spath,mkd_bpath,rng_spath,rng_bpath,gedi_egm_pattern\n",
    "from rutils import adjust_for_geoid\n",
    "\n",
    "def rm_aux_xml():\n",
    "    path = \"/media/ljp238/12TBWolf/RSPROX/OUTPUT_TILES/DEMDOWNX/TILE12/*/*.aux.xml\"\n",
    "    files = glob(path)\n",
    "    print(len(files))\n",
    "    for fi in files:\n",
    "        os.remove(fi)\n",
    "\n",
    "    print('rm_aux_xml')"
   ]
  },
  {
   "cell_type": "markdown",
   "metadata": {},
   "source": [
    "create viz checking points from vectors \n",
    "- locations : [x] n10e105, [x] n13e103, []s \n",
    "- clip rasters \n",
    "- viz and analysis \n"
   ]
  },
  {
   "cell_type": "code",
   "execution_count": 6,
   "metadata": {},
   "outputs": [],
   "source": [
    "#rm_aux_xml()\n",
    "tilename = 'N10E105'\n",
    "PROX_DPATH = \"/media/ljp238/12TBWolf/RSPROX/OUT_TILES/TILES12\""
   ]
  },
  {
   "cell_type": "code",
   "execution_count": 8,
   "metadata": {},
   "outputs": [
    {
     "name": "stdout",
     "output_type": "stream",
     "text": [
      "17\n"
     ]
    },
    {
     "data": {
      "text/plain": [
       "True"
      ]
     },
     "execution_count": 8,
     "metadata": {},
     "output_type": "execute_result"
    }
   ],
   "source": [
    "gedi_egm_files = glob(gedi_egm_pattern); print(len(gedi_egm_files))\n",
    "gedi_egm_file = [i for i in gedi_egm_files if tilename in i][0]\n",
    "lidar_file = f\"{PROX_DPATH}/{tilename}/{tilename}_multi_DTM_LiDAR.tif\"\n",
    "os.path.isfile(lidar_file)"
   ]
  },
  {
   "cell_type": "code",
   "execution_count": 9,
   "metadata": {},
   "outputs": [],
   "source": [
    "# 1 and 1.5 appears to working for n10e105\n",
    "# 1.8 to match # you can run optuna here with multiple values across all lidar to find the optimal value \n",
    "# in second iteration, use water mask river only from codem+esa to exclude those pixels "
   ]
  },
  {
   "cell_type": "code",
   "execution_count": null,
   "metadata": {},
   "outputs": [
    {
     "name": "stderr",
     "output_type": "stream",
     "text": [
      "/home/ljp238/miniconda3/envs/agluon/lib/python3.11/site-packages/tqdm/auto.py:21: TqdmWarning: IProgress not found. Please update jupyter and ipywidgets. See https://ipywidgets.readthedocs.io/en/stable/user_install.html\n",
      "  from .autonotebook import tqdm as notebook_tqdm\n"
     ]
    }
   ],
   "source": [
    "import rasterio\n",
    "import numpy as np\n",
    "import optuna\n",
    "from sklearn.metrics import mean_squared_error, r2_score\n",
    "\n",
    "def load_raster(filepath):\n",
    "    \"\"\"Load raster data and apply preprocessing (handle nodata, NaNs).\"\"\"\n",
    "    with rasterio.open(filepath) as src:\n",
    "        data = src.read(1).astype(np.float32)\n",
    "        data[src.nodata] = np.nan\n",
    "        data[(data >= 2000) | (data <= -30)] = np.nan\n",
    "    return data\n",
    "\n",
    "def optimize_adj_value(gedi_egm_file, reference_lidar_file):\n",
    "    \"\"\"Optimize the adjustment value using Optuna to minimize RMSE.\"\"\"\n",
    "    \n",
    "    # Load rasters\n",
    "    gedi_data = load_raster(gedi_egm_file)\n",
    "    lidar_data = load_raster(reference_lidar_file)\n",
    "    \n",
    "    # Define optimization function\n",
    "    def objective(trial):\n",
    "        adj = trial.suggest_float(\"adj\", 0.5, 2.0)  # Search range\n",
    "        adjusted_gedi = gedi_data - adj\n",
    "        \n",
    "        valid_mask = ~np.isnan(adjusted_gedi) & ~np.isnan(lidar_data)\n",
    "        rmse = mean_squared_error(lidar_data[valid_mask], adjusted_gedi[valid_mask], squared=False)\n",
    "        \n",
    "        return rmse  # Optuna minimizes this value\n",
    "    \n",
    "    # Run optimization\n",
    "    study = optuna.create_study(direction=\"minimize\")\n",
    "    study.optimize(objective, n_trials=20)  # Adjust trials as needed\n",
    "    \n",
    "    best_adj = study.best_params[\"adj\"]\n",
    "    best_rmse = study.best_value\n",
    "    \n",
    "    # Compute R2 for best adj\n",
    "    best_adjusted_gedi = gedi_data - best_adj\n",
    "    valid_mask = ~np.isnan(best_adjusted_gedi) & ~np.isnan(lidar_data)\n",
    "    best_r2 = r2_score(lidar_data[valid_mask], best_adjusted_gedi[valid_mask])\n",
    "\n",
    "    return {\"Best Adj\": best_adj, \"Best RMSE\": best_rmse, \"Best R2\": best_r2}\n",
    "\n",
    "\n",
    "\n"
   ]
  },
  {
   "cell_type": "code",
   "execution_count": null,
   "metadata": {},
   "outputs": [],
   "source": [
    "import rasterio\n",
    "import numpy as np\n",
    "import optuna\n",
    "from sklearn.metrics import mean_squared_error, r2_score\n",
    "\n",
    "with rasterio.open(lwm_fpath) as src:\n",
    "    ds = src.read(1)\n",
    "    ndv = src.nodata\n",
    "\n",
    "ndv  = 0.0\n",
    "np.unique(ds) =  array([0, 1], dtype=uint8)\n",
    "# add this mask into the analysis, and exclude where 0, only evaluarte whwere 1\n",
    "\n",
    "def load_raster(filepath):\n",
    "    \"\"\"Load raster data and apply preprocessing (handle nodata, NaNs).\"\"\"\n",
    "    with rasterio.open(filepath) as src:\n",
    "        data = src.read(1).astype(np.float32)\n",
    "        \n",
    "        # Handle nodata values properly\n",
    "        if src.nodata is not None:\n",
    "            data[data == src.nodata] = np.nan\n",
    "        \n",
    "        # Apply value filters\n",
    "        data[(data > 1000) | (data < -30)] = np.nan\n",
    "    \n",
    "    return data\n",
    "\n",
    "def optimize_adj_value(gedi_egm_file, reference_lidar_file):\n",
    "    \"\"\"Optimize the adjustment value using Optuna to minimize RMSE.\"\"\"\n",
    "    \n",
    "    # Load rasters\n",
    "    gedi_data = load_raster(gedi_egm_file)\n",
    "    lidar_data = load_raster(reference_lidar_file)\n",
    "    \n",
    "    # Define optimization function\n",
    "    def objective(trial):\n",
    "        adj = trial.suggest_float(\"adj\", 0.5, 2.0)  # Search range\n",
    "        adjusted_gedi = gedi_data - adj\n",
    "        \n",
    "        valid_mask = ~np.isnan(adjusted_gedi) & ~np.isnan(lidar_data)\n",
    "        \n",
    "        if np.sum(valid_mask) == 0:  # Avoid errors if no valid data points\n",
    "            return float(\"inf\")\n",
    "        \n",
    "        rmse = mean_squared_error(lidar_data[valid_mask], adjusted_gedi[valid_mask], squared=False)\n",
    "        \n",
    "        return rmse  # Optuna minimizes this value\n",
    "    \n",
    "    # Run optimization\n",
    "    study = optuna.create_study(direction=\"minimize\")\n",
    "    study.optimize(objective, n_trials=20)  # Adjust trials as needed\n",
    "    \n",
    "    best_adj = study.best_params[\"adj\"]\n",
    "    best_rmse = study.best_value\n",
    "    \n",
    "    # Compute R2 for best adj\n",
    "    best_adjusted_gedi = gedi_data - best_adj\n",
    "    valid_mask = ~np.isnan(best_adjusted_gedi) & ~np.isnan(lidar_data)\n",
    "    \n",
    "    best_r2 = r2_score(lidar_data[valid_mask], best_adjusted_gedi[valid_mask]) if np.sum(valid_mask) > 0 else None\n",
    "\n",
    "    return {\"Best Adj\": best_adj, \"Best RMSE\": best_rmse, \"Best R2\": best_r2}\n",
    "\n",
    "# Example usage\n",
    "# result = optimize_adj_value(\"gedi_egm.tif\", \"lidar_ref.tif\")\n",
    "# print(result)\n"
   ]
  },
  {
   "cell_type": "code",
   "execution_count": null,
   "metadata": {},
   "outputs": [],
   "source": [
    "import rasterio\n",
    "import numpy as np\n",
    "import optuna\n",
    "from sklearn.metrics import mean_squared_error, r2_score\n",
    "\n",
    "def load_raster(filepath):\n",
    "    \"\"\"Load raster data and apply preprocessing (handle nodata, NaNs).\"\"\"\n",
    "    with rasterio.open(filepath) as src:\n",
    "        data = src.read(1).astype(np.float32)\n",
    "        \n",
    "        # Handle nodata values properly\n",
    "        if src.nodata is not None:\n",
    "            data[data == src.nodata] = np.nan\n",
    "        \n",
    "        # Apply value filters\n",
    "        data[(data > 1000) | (data < -30)] = np.nan\n",
    "    \n",
    "    return data\n",
    "\n",
    "def load_mask(mask_path):\n",
    "    \"\"\"Load binary mask where 1 = valid area, 0 = exclude.\"\"\"\n",
    "    with rasterio.open(mask_path) as src:\n",
    "        mask = src.read(1).astype(np.uint8)\n",
    "    \n",
    "    return mask  # Returns 2D array with values 0 and 1\n",
    "\n",
    "def optimize_adj_value(gedi_egm_file, reference_lidar_file, lwm_fpath):\n",
    "    \"\"\"Optimize the adjustment value using Optuna to minimize RMSE, considering a mask.\"\"\"\n",
    "    \n",
    "    # Load rasters\n",
    "    gedi_data = load_raster(gedi_egm_file)\n",
    "    lidar_data = load_raster(reference_lidar_file)\n",
    "    mask = load_mask(lwm_fpath)  # Binary mask (0: exclude, 1: include)\n",
    "    \n",
    "    # Ensure mask is binary (0 or 1)\n",
    "    mask = (mask == 1)  # Converts it to a boolean array\n",
    "\n",
    "    # Define optimization function\n",
    "    def objective(trial):\n",
    "        adj = trial.suggest_float(\"adj\", 0.5, 2.0)  # Search range\n",
    "        adjusted_gedi = gedi_data - adj\n",
    "        \n",
    "        # Create valid mask (valid values & included in mask)\n",
    "        valid_mask = ~np.isnan(adjusted_gedi) & ~np.isnan(lidar_data) & mask\n",
    "        \n",
    "        if np.sum(valid_mask) == 0:  # Avoid errors if no valid data points\n",
    "            return float(\"inf\")\n",
    "        \n",
    "        rmse = mean_squared_error(lidar_data[valid_mask], adjusted_gedi[valid_mask], squared=False)\n",
    "        \n",
    "        return rmse  # Optuna minimizes this value\n",
    "    \n",
    "    # Run optimization\n",
    "    study = optuna.create_study(direction=\"minimize\")\n",
    "    study.optimize(objective, n_trials=20)  # Adjust trials as needed\n",
    "    \n",
    "    best_adj = study.best_params[\"adj\"]\n",
    "    best_rmse = study.best_value\n",
    "    \n",
    "    # Compute R2 for best adj\n",
    "    best_adjusted_gedi = gedi_data - best_adj\n",
    "    valid_mask = ~np.isnan(best_adjusted_gedi) & ~np.isnan(lidar_data) & mask\n",
    "    \n",
    "    best_r2 = r2_score(lidar_data[valid_mask], best_adjusted_gedi[valid_mask]) if np.sum(valid_mask) > 0 else None\n",
    "\n",
    "    return {\"Best Adj\": best_adj, \"Best RMSE\": best_rmse, \"Best R2\": best_r2}\n",
    "\n",
    "# Example usage\n",
    "# result = optimize_adj_value(\"gedi_egm.tif\", \"lidar_ref.tif\", \"mask.tif\")\n",
    "# print(result)\n"
   ]
  },
  {
   "cell_type": "code",
   "execution_count": 60,
   "metadata": {},
   "outputs": [],
   "source": [
    "lwm_fpath = \"/media/ljp238/12TBWolf/RSPROX/OUT_TILES/TILES12/N10E105/N10E105_LWM.tif\""
   ]
  },
  {
   "cell_type": "code",
   "execution_count": 67,
   "metadata": {},
   "outputs": [],
   "source": [
    "import rasterio\n",
    "import numpy as np\n",
    "import optuna\n",
    "from sklearn.metrics import mean_squared_error, r2_score\n",
    "\n",
    "def load_raster(filepath):\n",
    "    \"\"\"Load raster data and apply preprocessing (handle nodata, NaNs).\"\"\"\n",
    "    with rasterio.open(filepath) as src:\n",
    "        data = src.read(1).astype(np.float32)\n",
    "        \n",
    "        # Handle nodata values properly\n",
    "        if src.nodata is not None:\n",
    "            data[data == src.nodata] = np.nan\n",
    "        \n",
    "        # Apply value filters\n",
    "        data[(data > 1000) | (data < -30)] = np.nan\n",
    "    \n",
    "    return data\n",
    "\n",
    "def load_mask(mask_path):\n",
    "    \"\"\"Load binary mask where 1 = valid area, 0 = exclude.\"\"\"\n",
    "    with rasterio.open(mask_path) as src:\n",
    "        mask = src.read(1).astype(np.uint8)\n",
    "    \n",
    "    return mask  # Returns 2D array with values 0 and 1\n",
    "\n",
    "def optimize_adj_value(gedi_egm_file, reference_lidar_file, lwm_fpath):\n",
    "    \"\"\"Optimize the adjustment value using Optuna to minimize RMSE, considering a mask.\"\"\"\n",
    "    \n",
    "    # Load rasters\n",
    "    gedi_data = load_raster(gedi_egm_file)\n",
    "    lidar_data = load_raster(reference_lidar_file)\n",
    "    mask = load_mask(lwm_fpath)  # Binary mask (0: exclude, 1: include)\n",
    "    \n",
    "    # Ensure mask is binary (0 or 1)\n",
    "    mask = (mask == 1)  # Converts it to a boolean array\n",
    "\n",
    "    # Define optimization function\n",
    "    def objective(trial):\n",
    "        adj = trial.suggest_float(\"adj\", 0.8, 2.0)  # Search range\n",
    "        adjusted_gedi = gedi_data - adj\n",
    "        \n",
    "        # Create valid mask (valid values & included in mask)\n",
    "        valid_mask = ~np.isnan(adjusted_gedi) & ~np.isnan(lidar_data) & mask\n",
    "        \n",
    "        if np.sum(valid_mask) == 0:  # Avoid errors if no valid data points\n",
    "            return float(\"inf\")\n",
    "        \n",
    "        rmse = mean_squared_error(lidar_data[valid_mask], adjusted_gedi[valid_mask], squared=False)\n",
    "        \n",
    "        return rmse  # Optuna minimizes this value\n",
    "    \n",
    "    # Run optimization\n",
    "    #study = optuna.create_study(direction=\"minimize\")\n",
    "    \n",
    "    #study.optimize(objective, n_trials=20)  # Adjust trials as needed\n",
    "    study = optuna.create_study(direction=\"minimize\", sampler=optuna.samplers.TPESampler())\n",
    "    study.optimize(objective, n_trials=50, timeout=300) # # Run for 50 trials or 5 minutes\n",
    "    \n",
    "    best_adj = study.best_params[\"adj\"]\n",
    "    best_rmse = study.best_value\n",
    "    \n",
    "    # Compute R2 for best adj\n",
    "    best_adjusted_gedi = gedi_data - best_adj\n",
    "    valid_mask = ~np.isnan(best_adjusted_gedi) & ~np.isnan(lidar_data) & mask\n",
    "    \n",
    "    best_r2 = r2_score(lidar_data[valid_mask], best_adjusted_gedi[valid_mask]) if np.sum(valid_mask) > 0 else None\n",
    "\n",
    "    return {\"Best Adj\": best_adj, \"Best RMSE\": best_rmse, \"Best R2\": best_r2}\n",
    "\n",
    "# Example usage\n",
    "# result = optimize_adj_value(\"gedi_egm.tif\", \"lidar_ref.tif\", \"mask.tif\")\n",
    "# print(result)\n"
   ]
  },
  {
   "cell_type": "code",
   "execution_count": 68,
   "metadata": {},
   "outputs": [
    {
     "name": "stderr",
     "output_type": "stream",
     "text": [
      "[I 2025-02-17 11:47:37,950] A new study created in memory with name: no-name-2f8dfaea-1c12-46e9-a1ac-3e820dec7953\n",
      "/home/ljp238/miniconda3/envs/agluon/lib/python3.11/site-packages/sklearn/metrics/_regression.py:492: FutureWarning: 'squared' is deprecated in version 1.4 and will be removed in 1.6. To calculate the root mean squared error, use the function'root_mean_squared_error'.\n",
      "  warnings.warn(\n",
      "[I 2025-02-17 11:47:38,994] Trial 0 finished with value: 7.105199337005615 and parameters: {'adj': 1.9331604072830286}. Best is trial 0 with value: 7.105199337005615.\n",
      "/home/ljp238/miniconda3/envs/agluon/lib/python3.11/site-packages/sklearn/metrics/_regression.py:492: FutureWarning: 'squared' is deprecated in version 1.4 and will be removed in 1.6. To calculate the root mean squared error, use the function'root_mean_squared_error'.\n",
      "  warnings.warn(\n",
      "[I 2025-02-17 11:47:40,041] Trial 1 finished with value: 7.066188335418701 and parameters: {'adj': 1.4590923371162394}. Best is trial 1 with value: 7.066188335418701.\n",
      "/home/ljp238/miniconda3/envs/agluon/lib/python3.11/site-packages/sklearn/metrics/_regression.py:492: FutureWarning: 'squared' is deprecated in version 1.4 and will be removed in 1.6. To calculate the root mean squared error, use the function'root_mean_squared_error'.\n",
      "  warnings.warn(\n",
      "[I 2025-02-17 11:47:41,115] Trial 2 finished with value: 7.058354377746582 and parameters: {'adj': 1.2096638983256434}. Best is trial 2 with value: 7.058354377746582.\n",
      "/home/ljp238/miniconda3/envs/agluon/lib/python3.11/site-packages/sklearn/metrics/_regression.py:492: FutureWarning: 'squared' is deprecated in version 1.4 and will be removed in 1.6. To calculate the root mean squared error, use the function'root_mean_squared_error'.\n",
      "  warnings.warn(\n",
      "[I 2025-02-17 11:47:42,163] Trial 3 finished with value: 7.071688652038574 and parameters: {'adj': 1.557449921738281}. Best is trial 2 with value: 7.058354377746582.\n",
      "/home/ljp238/miniconda3/envs/agluon/lib/python3.11/site-packages/sklearn/metrics/_regression.py:492: FutureWarning: 'squared' is deprecated in version 1.4 and will be removed in 1.6. To calculate the root mean squared error, use the function'root_mean_squared_error'.\n",
      "  warnings.warn(\n",
      "[I 2025-02-17 11:47:43,256] Trial 4 finished with value: 7.1029767990112305 and parameters: {'adj': 1.9135410892877442}. Best is trial 2 with value: 7.058354377746582.\n",
      "/home/ljp238/miniconda3/envs/agluon/lib/python3.11/site-packages/sklearn/metrics/_regression.py:492: FutureWarning: 'squared' is deprecated in version 1.4 and will be removed in 1.6. To calculate the root mean squared error, use the function'root_mean_squared_error'.\n",
      "  warnings.warn(\n",
      "[I 2025-02-17 11:47:44,304] Trial 5 finished with value: 7.093561172485352 and parameters: {'adj': 1.825182650346974}. Best is trial 2 with value: 7.058354377746582.\n",
      "/home/ljp238/miniconda3/envs/agluon/lib/python3.11/site-packages/sklearn/metrics/_regression.py:492: FutureWarning: 'squared' is deprecated in version 1.4 and will be removed in 1.6. To calculate the root mean squared error, use the function'root_mean_squared_error'.\n",
      "  warnings.warn(\n",
      "[I 2025-02-17 11:47:45,347] Trial 6 finished with value: 7.069944381713867 and parameters: {'adj': 1.5289777581462918}. Best is trial 2 with value: 7.058354377746582.\n",
      "/home/ljp238/miniconda3/envs/agluon/lib/python3.11/site-packages/sklearn/metrics/_regression.py:492: FutureWarning: 'squared' is deprecated in version 1.4 and will be removed in 1.6. To calculate the root mean squared error, use the function'root_mean_squared_error'.\n",
      "  warnings.warn(\n",
      "[I 2025-02-17 11:47:46,389] Trial 7 finished with value: 7.086449146270752 and parameters: {'adj': 1.7505080016745334}. Best is trial 2 with value: 7.058354377746582.\n",
      "/home/ljp238/miniconda3/envs/agluon/lib/python3.11/site-packages/sklearn/metrics/_regression.py:492: FutureWarning: 'squared' is deprecated in version 1.4 and will be removed in 1.6. To calculate the root mean squared error, use the function'root_mean_squared_error'.\n",
      "  warnings.warn(\n",
      "[I 2025-02-17 11:47:47,432] Trial 8 finished with value: 7.08192253112793 and parameters: {'adj': 1.6981275843122998}. Best is trial 2 with value: 7.058354377746582.\n",
      "/home/ljp238/miniconda3/envs/agluon/lib/python3.11/site-packages/sklearn/metrics/_regression.py:492: FutureWarning: 'squared' is deprecated in version 1.4 and will be removed in 1.6. To calculate the root mean squared error, use the function'root_mean_squared_error'.\n",
      "  warnings.warn(\n",
      "[I 2025-02-17 11:47:48,473] Trial 9 finished with value: 7.06306266784668 and parameters: {'adj': 1.3879758160008708}. Best is trial 2 with value: 7.058354377746582.\n",
      "/home/ljp238/miniconda3/envs/agluon/lib/python3.11/site-packages/sklearn/metrics/_regression.py:492: FutureWarning: 'squared' is deprecated in version 1.4 and will be removed in 1.6. To calculate the root mean squared error, use the function'root_mean_squared_error'.\n",
      "  warnings.warn(\n",
      "[I 2025-02-17 11:47:49,521] Trial 10 finished with value: 7.058718204498291 and parameters: {'adj': 0.9924511832769761}. Best is trial 2 with value: 7.058354377746582.\n",
      "/home/ljp238/miniconda3/envs/agluon/lib/python3.11/site-packages/sklearn/metrics/_regression.py:492: FutureWarning: 'squared' is deprecated in version 1.4 and will be removed in 1.6. To calculate the root mean squared error, use the function'root_mean_squared_error'.\n",
      "  warnings.warn(\n",
      "[I 2025-02-17 11:47:50,571] Trial 11 finished with value: 7.058631896972656 and parameters: {'adj': 0.9977657997871664}. Best is trial 2 with value: 7.058354377746582.\n",
      "/home/ljp238/miniconda3/envs/agluon/lib/python3.11/site-packages/sklearn/metrics/_regression.py:492: FutureWarning: 'squared' is deprecated in version 1.4 and will be removed in 1.6. To calculate the root mean squared error, use the function'root_mean_squared_error'.\n",
      "  warnings.warn(\n",
      "[I 2025-02-17 11:47:51,640] Trial 12 finished with value: 7.058162689208984 and parameters: {'adj': 1.030693882031361}. Best is trial 12 with value: 7.058162689208984.\n",
      "/home/ljp238/miniconda3/envs/agluon/lib/python3.11/site-packages/sklearn/metrics/_regression.py:492: FutureWarning: 'squared' is deprecated in version 1.4 and will be removed in 1.6. To calculate the root mean squared error, use the function'root_mean_squared_error'.\n",
      "  warnings.warn(\n",
      "[I 2025-02-17 11:47:52,707] Trial 13 finished with value: 7.0593037605285645 and parameters: {'adj': 1.2636998351587647}. Best is trial 12 with value: 7.058162689208984.\n",
      "/home/ljp238/miniconda3/envs/agluon/lib/python3.11/site-packages/sklearn/metrics/_regression.py:492: FutureWarning: 'squared' is deprecated in version 1.4 and will be removed in 1.6. To calculate the root mean squared error, use the function'root_mean_squared_error'.\n",
      "  warnings.warn(\n",
      "[I 2025-02-17 11:47:53,757] Trial 14 finished with value: 7.058399677276611 and parameters: {'adj': 1.2129260551810255}. Best is trial 12 with value: 7.058162689208984.\n",
      "/home/ljp238/miniconda3/envs/agluon/lib/python3.11/site-packages/sklearn/metrics/_regression.py:492: FutureWarning: 'squared' is deprecated in version 1.4 and will be removed in 1.6. To calculate the root mean squared error, use the function'root_mean_squared_error'.\n",
      "  warnings.warn(\n",
      "[I 2025-02-17 11:47:54,822] Trial 15 finished with value: 7.06261682510376 and parameters: {'adj': 0.8490391589498554}. Best is trial 12 with value: 7.058162689208984.\n",
      "/home/ljp238/miniconda3/envs/agluon/lib/python3.11/site-packages/sklearn/metrics/_regression.py:492: FutureWarning: 'squared' is deprecated in version 1.4 and will be removed in 1.6. To calculate the root mean squared error, use the function'root_mean_squared_error'.\n",
      "  warnings.warn(\n",
      "[I 2025-02-17 11:47:55,878] Trial 16 finished with value: 7.057733535766602 and parameters: {'adj': 1.1398941204946889}. Best is trial 16 with value: 7.057733535766602.\n",
      "/home/ljp238/miniconda3/envs/agluon/lib/python3.11/site-packages/sklearn/metrics/_regression.py:492: FutureWarning: 'squared' is deprecated in version 1.4 and will be removed in 1.6. To calculate the root mean squared error, use the function'root_mean_squared_error'.\n",
      "  warnings.warn(\n",
      "[I 2025-02-17 11:47:56,928] Trial 17 finished with value: 7.057990074157715 and parameters: {'adj': 1.0475142361322463}. Best is trial 16 with value: 7.057733535766602.\n",
      "/home/ljp238/miniconda3/envs/agluon/lib/python3.11/site-packages/sklearn/metrics/_regression.py:492: FutureWarning: 'squared' is deprecated in version 1.4 and will be removed in 1.6. To calculate the root mean squared error, use the function'root_mean_squared_error'.\n",
      "  warnings.warn(\n",
      "[I 2025-02-17 11:47:57,976] Trial 18 finished with value: 7.063088417053223 and parameters: {'adj': 0.8365807643298174}. Best is trial 16 with value: 7.057733535766602.\n",
      "/home/ljp238/miniconda3/envs/agluon/lib/python3.11/site-packages/sklearn/metrics/_regression.py:492: FutureWarning: 'squared' is deprecated in version 1.4 and will be removed in 1.6. To calculate the root mean squared error, use the function'root_mean_squared_error'.\n",
      "  warnings.warn(\n",
      "[I 2025-02-17 11:47:59,026] Trial 19 finished with value: 7.057711124420166 and parameters: {'adj': 1.093986452698364}. Best is trial 19 with value: 7.057711124420166.\n",
      "/home/ljp238/miniconda3/envs/agluon/lib/python3.11/site-packages/sklearn/metrics/_regression.py:492: FutureWarning: 'squared' is deprecated in version 1.4 and will be removed in 1.6. To calculate the root mean squared error, use the function'root_mean_squared_error'.\n",
      "  warnings.warn(\n",
      "[I 2025-02-17 11:48:00,102] Trial 20 finished with value: 7.060999870300293 and parameters: {'adj': 1.3294926932013844}. Best is trial 19 with value: 7.057711124420166.\n",
      "/home/ljp238/miniconda3/envs/agluon/lib/python3.11/site-packages/sklearn/metrics/_regression.py:492: FutureWarning: 'squared' is deprecated in version 1.4 and will be removed in 1.6. To calculate the root mean squared error, use the function'root_mean_squared_error'.\n",
      "  warnings.warn(\n",
      "[I 2025-02-17 11:48:01,155] Trial 21 finished with value: 7.057703018188477 and parameters: {'adj': 1.1094786884207435}. Best is trial 21 with value: 7.057703018188477.\n",
      "/home/ljp238/miniconda3/envs/agluon/lib/python3.11/site-packages/sklearn/metrics/_regression.py:492: FutureWarning: 'squared' is deprecated in version 1.4 and will be removed in 1.6. To calculate the root mean squared error, use the function'root_mean_squared_error'.\n",
      "  warnings.warn(\n",
      "[I 2025-02-17 11:48:02,205] Trial 22 finished with value: 7.057712078094482 and parameters: {'adj': 1.1308362021999077}. Best is trial 21 with value: 7.057703018188477.\n",
      "/home/ljp238/miniconda3/envs/agluon/lib/python3.11/site-packages/sklearn/metrics/_regression.py:492: FutureWarning: 'squared' is deprecated in version 1.4 and will be removed in 1.6. To calculate the root mean squared error, use the function'root_mean_squared_error'.\n",
      "  warnings.warn(\n",
      "[I 2025-02-17 11:48:03,252] Trial 23 finished with value: 7.057703971862793 and parameters: {'adj': 1.1129707718722333}. Best is trial 21 with value: 7.057703018188477.\n",
      "/home/ljp238/miniconda3/envs/agluon/lib/python3.11/site-packages/sklearn/metrics/_regression.py:492: FutureWarning: 'squared' is deprecated in version 1.4 and will be removed in 1.6. To calculate the root mean squared error, use the function'root_mean_squared_error'.\n",
      "  warnings.warn(\n",
      "[I 2025-02-17 11:48:04,303] Trial 24 finished with value: 7.060069561004639 and parameters: {'adj': 0.9297191289576876}. Best is trial 21 with value: 7.057703018188477.\n",
      "/home/ljp238/miniconda3/envs/agluon/lib/python3.11/site-packages/sklearn/metrics/_regression.py:492: FutureWarning: 'squared' is deprecated in version 1.4 and will be removed in 1.6. To calculate the root mean squared error, use the function'root_mean_squared_error'.\n",
      "  warnings.warn(\n",
      "[I 2025-02-17 11:48:05,372] Trial 25 finished with value: 7.057713508605957 and parameters: {'adj': 1.1329034549380212}. Best is trial 21 with value: 7.057703018188477.\n",
      "/home/ljp238/miniconda3/envs/agluon/lib/python3.11/site-packages/sklearn/metrics/_regression.py:492: FutureWarning: 'squared' is deprecated in version 1.4 and will be removed in 1.6. To calculate the root mean squared error, use the function'root_mean_squared_error'.\n",
      "  warnings.warn(\n",
      "[I 2025-02-17 11:48:06,436] Trial 26 finished with value: 7.060381889343262 and parameters: {'adj': 0.9177747992900573}. Best is trial 21 with value: 7.057703018188477.\n",
      "/home/ljp238/miniconda3/envs/agluon/lib/python3.11/site-packages/sklearn/metrics/_regression.py:492: FutureWarning: 'squared' is deprecated in version 1.4 and will be removed in 1.6. To calculate the root mean squared error, use the function'root_mean_squared_error'.\n",
      "  warnings.warn(\n",
      "[I 2025-02-17 11:48:07,489] Trial 27 finished with value: 7.060197830200195 and parameters: {'adj': 1.3010689338474433}. Best is trial 21 with value: 7.057703018188477.\n",
      "/home/ljp238/miniconda3/envs/agluon/lib/python3.11/site-packages/sklearn/metrics/_regression.py:492: FutureWarning: 'squared' is deprecated in version 1.4 and will be removed in 1.6. To calculate the root mean squared error, use the function'root_mean_squared_error'.\n",
      "  warnings.warn(\n",
      "[I 2025-02-17 11:48:08,542] Trial 28 finished with value: 7.057829856872559 and parameters: {'adj': 1.0679437888871033}. Best is trial 21 with value: 7.057703018188477.\n",
      "/home/ljp238/miniconda3/envs/agluon/lib/python3.11/site-packages/sklearn/metrics/_regression.py:492: FutureWarning: 'squared' is deprecated in version 1.4 and will be removed in 1.6. To calculate the root mean squared error, use the function'root_mean_squared_error'.\n",
      "  warnings.warn(\n",
      "[I 2025-02-17 11:48:09,595] Trial 29 finished with value: 7.064555644989014 and parameters: {'adj': 0.8013361978107452}. Best is trial 21 with value: 7.057703018188477.\n",
      "/home/ljp238/miniconda3/envs/agluon/lib/python3.11/site-packages/sklearn/metrics/_regression.py:492: FutureWarning: 'squared' is deprecated in version 1.4 and will be removed in 1.6. To calculate the root mean squared error, use the function'root_mean_squared_error'.\n",
      "  warnings.warn(\n",
      "[I 2025-02-17 11:48:10,647] Trial 30 finished with value: 7.058311462402344 and parameters: {'adj': 1.2067137822732181}. Best is trial 21 with value: 7.057703018188477.\n",
      "/home/ljp238/miniconda3/envs/agluon/lib/python3.11/site-packages/sklearn/metrics/_regression.py:492: FutureWarning: 'squared' is deprecated in version 1.4 and will be removed in 1.6. To calculate the root mean squared error, use the function'root_mean_squared_error'.\n",
      "  warnings.warn(\n",
      "[I 2025-02-17 11:48:11,694] Trial 31 finished with value: 7.057697296142578 and parameters: {'adj': 1.1236791950066192}. Best is trial 31 with value: 7.057697296142578.\n",
      "/home/ljp238/miniconda3/envs/agluon/lib/python3.11/site-packages/sklearn/metrics/_regression.py:492: FutureWarning: 'squared' is deprecated in version 1.4 and will be removed in 1.6. To calculate the root mean squared error, use the function'root_mean_squared_error'.\n",
      "  warnings.warn(\n",
      "[I 2025-02-17 11:48:12,742] Trial 32 finished with value: 7.060439109802246 and parameters: {'adj': 0.9156254046622172}. Best is trial 31 with value: 7.057697296142578.\n",
      "/home/ljp238/miniconda3/envs/agluon/lib/python3.11/site-packages/sklearn/metrics/_regression.py:492: FutureWarning: 'squared' is deprecated in version 1.4 and will be removed in 1.6. To calculate the root mean squared error, use the function'root_mean_squared_error'.\n",
      "  warnings.warn(\n",
      "[I 2025-02-17 11:48:13,791] Trial 33 finished with value: 7.057701587677002 and parameters: {'adj': 1.1017355885463203}. Best is trial 31 with value: 7.057697296142578.\n",
      "/home/ljp238/miniconda3/envs/agluon/lib/python3.11/site-packages/sklearn/metrics/_regression.py:492: FutureWarning: 'squared' is deprecated in version 1.4 and will be removed in 1.6. To calculate the root mean squared error, use the function'root_mean_squared_error'.\n",
      "  warnings.warn(\n",
      "[I 2025-02-17 11:48:14,841] Trial 34 finished with value: 7.064461708068848 and parameters: {'adj': 1.4218657613691332}. Best is trial 31 with value: 7.057697296142578.\n",
      "/home/ljp238/miniconda3/envs/agluon/lib/python3.11/site-packages/sklearn/metrics/_regression.py:492: FutureWarning: 'squared' is deprecated in version 1.4 and will be removed in 1.6. To calculate the root mean squared error, use the function'root_mean_squared_error'.\n",
      "  warnings.warn(\n",
      "[I 2025-02-17 11:48:15,889] Trial 35 finished with value: 7.058144569396973 and parameters: {'adj': 1.1927597080378836}. Best is trial 31 with value: 7.057697296142578.\n",
      "/home/ljp238/miniconda3/envs/agluon/lib/python3.11/site-packages/sklearn/metrics/_regression.py:492: FutureWarning: 'squared' is deprecated in version 1.4 and will be removed in 1.6. To calculate the root mean squared error, use the function'root_mean_squared_error'.\n",
      "  warnings.warn(\n",
      "[I 2025-02-17 11:48:16,936] Trial 36 finished with value: 7.061907768249512 and parameters: {'adj': 1.3566456400145193}. Best is trial 31 with value: 7.057697296142578.\n",
      "/home/ljp238/miniconda3/envs/agluon/lib/python3.11/site-packages/sklearn/metrics/_regression.py:492: FutureWarning: 'squared' is deprecated in version 1.4 and will be removed in 1.6. To calculate the root mean squared error, use the function'root_mean_squared_error'.\n",
      "  warnings.warn(\n",
      "[I 2025-02-17 11:48:17,985] Trial 37 finished with value: 7.058950901031494 and parameters: {'adj': 1.2461069383235237}. Best is trial 31 with value: 7.057697296142578.\n",
      "/home/ljp238/miniconda3/envs/agluon/lib/python3.11/site-packages/sklearn/metrics/_regression.py:492: FutureWarning: 'squared' is deprecated in version 1.4 and will be removed in 1.6. To calculate the root mean squared error, use the function'root_mean_squared_error'.\n",
      "  warnings.warn(\n",
      "[I 2025-02-17 11:48:19,037] Trial 38 finished with value: 7.067042827606201 and parameters: {'adj': 1.4761116069475226}. Best is trial 31 with value: 7.057697296142578.\n",
      "/home/ljp238/miniconda3/envs/agluon/lib/python3.11/site-packages/sklearn/metrics/_regression.py:492: FutureWarning: 'squared' is deprecated in version 1.4 and will be removed in 1.6. To calculate the root mean squared error, use the function'root_mean_squared_error'.\n",
      "  warnings.warn(\n",
      "[I 2025-02-17 11:48:20,089] Trial 39 finished with value: 7.059558391571045 and parameters: {'adj': 0.9501776956737494}. Best is trial 31 with value: 7.057697296142578.\n",
      "/home/ljp238/miniconda3/envs/agluon/lib/python3.11/site-packages/sklearn/metrics/_regression.py:492: FutureWarning: 'squared' is deprecated in version 1.4 and will be removed in 1.6. To calculate the root mean squared error, use the function'root_mean_squared_error'.\n",
      "  warnings.warn(\n",
      "[I 2025-02-17 11:48:21,135] Trial 40 finished with value: 7.0764617919921875 and parameters: {'adj': 1.6275984915407138}. Best is trial 31 with value: 7.057697296142578.\n",
      "/home/ljp238/miniconda3/envs/agluon/lib/python3.11/site-packages/sklearn/metrics/_regression.py:492: FutureWarning: 'squared' is deprecated in version 1.4 and will be removed in 1.6. To calculate the root mean squared error, use the function'root_mean_squared_error'.\n",
      "  warnings.warn(\n",
      "[I 2025-02-17 11:48:22,187] Trial 41 finished with value: 7.057711124420166 and parameters: {'adj': 1.09354969229922}. Best is trial 31 with value: 7.057697296142578.\n",
      "/home/ljp238/miniconda3/envs/agluon/lib/python3.11/site-packages/sklearn/metrics/_regression.py:492: FutureWarning: 'squared' is deprecated in version 1.4 and will be removed in 1.6. To calculate the root mean squared error, use the function'root_mean_squared_error'.\n",
      "  warnings.warn(\n",
      "[I 2025-02-17 11:48:23,242] Trial 42 finished with value: 7.057916164398193 and parameters: {'adj': 1.169452113449647}. Best is trial 31 with value: 7.057697296142578.\n",
      "/home/ljp238/miniconda3/envs/agluon/lib/python3.11/site-packages/sklearn/metrics/_regression.py:492: FutureWarning: 'squared' is deprecated in version 1.4 and will be removed in 1.6. To calculate the root mean squared error, use the function'root_mean_squared_error'.\n",
      "  warnings.warn(\n",
      "[I 2025-02-17 11:48:24,312] Trial 43 finished with value: 7.0577073097229 and parameters: {'adj': 1.0984341808803273}. Best is trial 31 with value: 7.057697296142578.\n",
      "/home/ljp238/miniconda3/envs/agluon/lib/python3.11/site-packages/sklearn/metrics/_regression.py:492: FutureWarning: 'squared' is deprecated in version 1.4 and will be removed in 1.6. To calculate the root mean squared error, use the function'root_mean_squared_error'.\n",
      "  warnings.warn(\n",
      "[I 2025-02-17 11:48:25,372] Trial 44 finished with value: 7.059618949890137 and parameters: {'adj': 1.2774649867469334}. Best is trial 31 with value: 7.057697296142578.\n",
      "/home/ljp238/miniconda3/envs/agluon/lib/python3.11/site-packages/sklearn/metrics/_regression.py:492: FutureWarning: 'squared' is deprecated in version 1.4 and will be removed in 1.6. To calculate the root mean squared error, use the function'root_mean_squared_error'.\n",
      "  warnings.warn(\n",
      "[I 2025-02-17 11:48:26,425] Trial 45 finished with value: 7.058508396148682 and parameters: {'adj': 1.00560764754189}. Best is trial 31 with value: 7.057697296142578.\n",
      "/home/ljp238/miniconda3/envs/agluon/lib/python3.11/site-packages/sklearn/metrics/_regression.py:492: FutureWarning: 'squared' is deprecated in version 1.4 and will be removed in 1.6. To calculate the root mean squared error, use the function'root_mean_squared_error'.\n",
      "  warnings.warn(\n",
      "[I 2025-02-17 11:48:27,476] Trial 46 finished with value: 7.059040069580078 and parameters: {'adj': 0.9742984498888014}. Best is trial 31 with value: 7.057697296142578.\n",
      "/home/ljp238/miniconda3/envs/agluon/lib/python3.11/site-packages/sklearn/metrics/_regression.py:492: FutureWarning: 'squared' is deprecated in version 1.4 and will be removed in 1.6. To calculate the root mean squared error, use the function'root_mean_squared_error'.\n",
      "  warnings.warn(\n",
      "[I 2025-02-17 11:48:28,528] Trial 47 finished with value: 7.057775020599365 and parameters: {'adj': 1.0778032790354057}. Best is trial 31 with value: 7.057697296142578.\n",
      "/home/ljp238/miniconda3/envs/agluon/lib/python3.11/site-packages/sklearn/metrics/_regression.py:492: FutureWarning: 'squared' is deprecated in version 1.4 and will be removed in 1.6. To calculate the root mean squared error, use the function'root_mean_squared_error'.\n",
      "  warnings.warn(\n",
      "[I 2025-02-17 11:48:29,739] Trial 48 finished with value: 7.104729175567627 and parameters: {'adj': 1.9289873163895694}. Best is trial 31 with value: 7.057697296142578.\n",
      "/home/ljp238/miniconda3/envs/agluon/lib/python3.11/site-packages/sklearn/metrics/_regression.py:492: FutureWarning: 'squared' is deprecated in version 1.4 and will be removed in 1.6. To calculate the root mean squared error, use the function'root_mean_squared_error'.\n",
      "  warnings.warn(\n",
      "[I 2025-02-17 11:48:30,798] Trial 49 finished with value: 7.058656692504883 and parameters: {'adj': 1.2299174129431074}. Best is trial 31 with value: 7.057697296142578.\n"
     ]
    }
   ],
   "source": [
    "result = optimize_adj_value(gedi_egm_file, lidar_file, lwm_fpath)"
   ]
  },
  {
   "cell_type": "code",
   "execution_count": 69,
   "metadata": {},
   "outputs": [
    {
     "data": {
      "text/plain": [
       "{'Best Adj': 1.1236791950066192,\n",
       " 'Best RMSE': 7.057697296142578,\n",
       " 'Best R2': 0.2719513773918152}"
      ]
     },
     "execution_count": 69,
     "metadata": {},
     "output_type": "execute_result"
    }
   ],
   "source": [
    "result"
   ]
  },
  {
   "cell_type": "code",
   "execution_count": null,
   "metadata": {},
   "outputs": [],
   "source": [
    "with rasterio.open(lwm_fpath) as src:\n",
    "    ds = src.read(1)\n",
    "    ndv = src.nodata\n",
    "\n",
    "ndv  = 0.0\n",
    "np.unique(ds) =  array([0, 1], dtype=uint8)\n",
    "# add this mask into the analysis, and exclude where 0, only evaluarte whwere 1"
   ]
  },
  {
   "cell_type": "code",
   "execution_count": 65,
   "metadata": {},
   "outputs": [
    {
     "data": {
      "text/plain": [
       "0.0"
      ]
     },
     "execution_count": 65,
     "metadata": {},
     "output_type": "execute_result"
    }
   ],
   "source": [
    "ndv"
   ]
  },
  {
   "cell_type": "code",
   "execution_count": 63,
   "metadata": {},
   "outputs": [
    {
     "data": {
      "text/plain": [
       "array([0, 1], dtype=uint8)"
      ]
     },
     "execution_count": 63,
     "metadata": {},
     "output_type": "execute_result"
    }
   ],
   "source": [
    "np.unique(ds)"
   ]
  },
  {
   "cell_type": "code",
   "execution_count": 61,
   "metadata": {},
   "outputs": [],
   "source": [
    "#result = optimize_adj_value(gedi_egm_file, lidar_file)"
   ]
  },
  {
   "cell_type": "code",
   "execution_count": 57,
   "metadata": {},
   "outputs": [],
   "source": [
    "gedi_data = np.array([[10, 12], [15, np.nan]])\n",
    "adj = 1.2  # Scalar from Optuna\n",
    "adjusted_gedi = gedi_data - adj\n"
   ]
  },
  {
   "cell_type": "code",
   "execution_count": null,
   "metadata": {},
   "outputs": [
    {
     "data": {
      "text/plain": [
       "{'Best Adj': 1.1618517886852733,\n",
       " 'Best RMSE': 6.880164623260498,\n",
       " 'Best R2': 0.271220862865448}"
      ]
     },
     "execution_count": 56,
     "metadata": {},
     "output_type": "execute_result"
    }
   ],
   "source": [
    "result # my objective functino should be the RMSEmap ?"
   ]
  },
  {
   "cell_type": "code",
   "execution_count": null,
   "metadata": {},
   "outputs": [],
   "source": [
    "result = optimize_adj_value(gedi_egm_file, lidar_file)"
   ]
  },
  {
   "cell_type": "code",
   "execution_count": null,
   "metadata": {},
   "outputs": [],
   "source": [
    "i want to optimize adj value for this raster operations \n",
    "\n",
    "adj_list = [0.5,0.8,0.9,1,1.1,1.2, up to 2]\n",
    "input raster is gedi_egm_file\n",
    "operation is input_raster - adj_value (transform into 2d with same values)\n",
    "get RMSE and R2 between gedi_adj_file and reference lidar_file\n",
    "return a df with columns adj,RMSE,R2 \n",
    "\n",
    "\n",
    "in reading raster , src.nodata set to null , anything above 1000 set to np.nan and less than -30 to np.nan too "
   ]
  },
  {
   "cell_type": "code",
   "execution_count": null,
   "metadata": {},
   "outputs": [],
   "source": [
    "adj = 1.5\n",
    "gedi_adj_file = gedi_egm_file.replace('.tif', f'{adj}_adj.tif')\n",
    "adjust_for_geoid(input_raster=gedi_egm_file, \n",
    "                 output_raster=gedi_adj_file, \n",
    "                 constant=adj, operation='subtract')\n",
    "\n",
    "get RMSE and R2 between gedi_adj_file and reference lidar_file\n",
    "i want to optim"
   ]
  },
  {
   "cell_type": "markdown",
   "metadata": {},
   "source": [
    "##### ajust for geoid \n",
    "\n",
    "to do run HPO optimazation to find the best threshold in  [2MR]\n",
    "- 1. TLS \n",
    "- 2. MKD \n",
    "- 3. RNG \n",
    "- 4. 1+2+3"
   ]
  },
  {
   "cell_type": "code",
   "execution_count": null,
   "metadata": {},
   "outputs": [
    {
     "name": "stdout",
     "output_type": "stream",
     "text": [
      "Output raster '/media/ljp238/12TBWolf/RSPROX/OUTPUT_TILES/DEMDOWNX/TILE12/N10E105/N10E105_GEDI03_dtm_EGM1.5_adj.tif' already exists. Operation not performed.\n"
     ]
    }
   ],
   "source": []
  },
  {
   "cell_type": "code",
   "execution_count": 40,
   "metadata": {},
   "outputs": [],
   "source": [
    "gedi_adj_clip_file = gedi_adj_file.replace('.tif', '_clip.tif')\n",
    "\n",
    "#clip_raster_percentile(gedi_adj_file, gedi_adj_clip_file,lper=0.5,hper=100) # no need to clip heigh bound its water\n",
    "# elevations are heihest in the water rivers and stuff "
   ]
  },
  {
   "cell_type": "code",
   "execution_count": 30,
   "metadata": {},
   "outputs": [],
   "source": [
    "# VERSION 1 WITHTOUT DSM \n",
    "# VERSION 2 WITH DSM"
   ]
  },
  {
   "cell_type": "code",
   "execution_count": null,
   "metadata": {},
   "outputs": [],
   "source": [
    "\n",
    "\n",
    "# Example usage\n",
    "# clip_raster_percentile(\"input.tif\", \"output.tif\")\n"
   ]
  },
  {
   "cell_type": "code",
   "execution_count": null,
   "metadata": {},
   "outputs": [],
   "source": [
    "# given a raster, i want to clip out the bottom 2 percentile, and top 80 percentile values, replace by nan\n",
    "# after removing them save the raster "
   ]
  }
 ],
 "metadata": {
  "kernelspec": {
   "display_name": "agluon",
   "language": "python",
   "name": "python3"
  },
  "language_info": {
   "codemirror_mode": {
    "name": "ipython",
    "version": 3
   },
   "file_extension": ".py",
   "mimetype": "text/x-python",
   "name": "python",
   "nbconvert_exporter": "python",
   "pygments_lexer": "ipython3",
   "version": "3.11.11"
  }
 },
 "nbformat": 4,
 "nbformat_minor": 2
}
