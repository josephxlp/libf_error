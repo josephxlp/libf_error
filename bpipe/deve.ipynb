{
 "cells": [
  {
   "cell_type": "markdown",
   "metadata": {},
   "source": [
    "##### HPO \n",
    "Optimimize by :\n",
    "- ldem if exist - minimize the difference\n",
    "- tdem if 1 does not have enough - maximize difference "
   ]
  },
  {
   "cell_type": "code",
   "execution_count": 4,
   "metadata": {},
   "outputs": [],
   "source": [
    "mod_fn = \"/media/ljp238/12TBWolf/RSPROX/OUT_TILES/BLOCKS/TLS/tiles/N13E103_DTM_GV4.tif\"\n",
    "ref_fn = \"/media/ljp238/12TBWolf/RSPROX/OUT_TILES/TILES12/N13E103/N13E103_cdem_DEM.tif\"\n",
    "from hpo_threshpoint import optimize_adj_value\n",
    "\n",
    "# maximize = optimize_adj_value(mod_fn, ref_fn,\n",
    "#                               lwm_fpath=None, gridshape=(9001,9001),\n",
    "#                               direction=\"maximize\", n_trials=50, timeout=100)\n",
    "\n",
    "# minimize = optimize_adj_value(mod_fn, ref_fn,\n",
    "#                               lwm_fpath=None, gridshape=(9001,9001),\n",
    "#                               direction=\"minimize\", n_trials=50, timeout=100)"
   ]
  },
  {
   "cell_type": "code",
   "execution_count": 27,
   "metadata": {},
   "outputs": [],
   "source": [
    "mindict = {'Best Adj': 1.999958250854677, 'Best RMSE': 13.302204132080078, 'Best R2': 0.8007898926734924}\n",
    "maxdict = {'Best Adj': 0.8000118758262794, 'Best RMSE': 13.048285484313965, 'Best R2': 0.808322548866272}\n",
    "adj = mindict['Best Adj']"
   ]
  },
  {
   "cell_type": "code",
   "execution_count": 18,
   "metadata": {},
   "outputs": [],
   "source": [
    "# do all this steps with dsm as well, and see the results \n",
    "import rasterio\n",
    "import numpy as np\n",
    "import os "
   ]
  },
  {
   "cell_type": "code",
   "execution_count": 26,
   "metadata": {},
   "outputs": [],
   "source": [
    "def adjust_geoid(dsm_path, output_path, operation='subtract', scalar=1.01):\n",
    "    with rasterio.open(dsm_path) as dsm:\n",
    "        dsm_data = dsm.read(1)  # Read the DSM data\n",
    "\n",
    "    # with rasterio.open(dtm_path) as dtm:\n",
    "    #     dtm_data = dtm.read(1)  # Read the DTM data\n",
    "\n",
    "    # Apply the operation with the scalar\n",
    "    if operation == 'subtract':\n",
    "        output_path = output_path.replace('tif', f'{scalar}S.tif')\n",
    "        result = dsm_data - scalar\n",
    "        #result = dtm_data - scalar\n",
    "    elif operation == 'add':\n",
    "        output_path = output_path.replace('tif', f'{scalar}A.tif')\n",
    "        result = dsm_data + scalar\n",
    "        #result = dtm_data + scalar\n",
    "\n",
    "    # Save the result to the output path\n",
    "    with rasterio.open(output_path, 'w', **dsm.meta) as out_raster:\n",
    "        out_raster.write(result, 1)"
   ]
  },
  {
   "cell_type": "code",
   "execution_count": 28,
   "metadata": {},
   "outputs": [],
   "source": [
    "adj_fn = mod_fn.replace('tif', f'_{adj}adj.tif')\n",
    "if not os.path.isfile(adj_fn):\n",
    "    adjust_geoid(mod_fn, adj_fn, operation='subtract', scalar=adj)\n",
    "\n",
    "adj_fn = mod_fn.replace('tif', f'_{adj}adj.tif')\n",
    "if not os.path.isfile(adj_fn):\n",
    "    adjust_geoid(mod_fn, adj_fn, operation='add', scalar=adj)"
   ]
  },
  {
   "cell_type": "code",
   "execution_count": 31,
   "metadata": {},
   "outputs": [],
   "source": [
    "#no need to add this step here because we got the geoid sorted. only add in amazon"
   ]
  },
  {
   "cell_type": "code",
   "execution_count": null,
   "metadata": {},
   "outputs": [],
   "source": []
  },
  {
   "cell_type": "code",
   "execution_count": null,
   "metadata": {},
   "outputs": [],
   "source": []
  },
  {
   "cell_type": "code",
   "execution_count": null,
   "metadata": {},
   "outputs": [],
   "source": []
  }
 ],
 "metadata": {
  "kernelspec": {
   "display_name": "agluon",
   "language": "python",
   "name": "python3"
  },
  "language_info": {
   "codemirror_mode": {
    "name": "ipython",
    "version": 3
   },
   "file_extension": ".py",
   "mimetype": "text/x-python",
   "name": "python",
   "nbconvert_exporter": "python",
   "pygments_lexer": "ipython3",
   "version": "3.11.11"
  }
 },
 "nbformat": 4,
 "nbformat_minor": 2
}
