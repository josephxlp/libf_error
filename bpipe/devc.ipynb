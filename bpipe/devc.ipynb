{
 "cells": [
  {
   "cell_type": "code",
   "execution_count": 1,
   "metadata": {},
   "outputs": [],
   "source": [
    "import os \n",
    "import sys \n",
    "from glob import glob\n",
    "from gutils import cleanxmlfiles\n",
    "from uvars import libb_prox_dpath\n",
    "from uvars import grid_fn, egm_fn, gdemdH_fn,gdemd_fn, gdsmdH_fn, gdsmf_fn\n",
    "#libb_prox_dpath = '/home/ljp238/Documents/UoE/libb_prox'\n",
    "sys.path.append(libb_prox_dpath)\n",
    "from rtransforms import raster_calc"
   ]
  },
  {
   "cell_type": "code",
   "execution_count": 3,
   "metadata": {},
   "outputs": [],
   "source": [
    "cleanxmlfiles()              "
   ]
  },
  {
   "cell_type": "code",
   "execution_count": 4,
   "metadata": {},
   "outputs": [
    {
     "name": "stdout",
     "output_type": "stream",
     "text": [
      "already created\n"
     ]
    }
   ],
   "source": [
    "apath = grid_fn\n",
    "mpath = gdemd_fn\n",
    "opath = gdemdH_fn\n",
    "if not os.path.isfile(opath):\n",
    "    raster_calc(mpath, apath, operation='add', output_path=opath)\n",
    "else:\n",
    "    print('already created')"
   ]
  },
  {
   "cell_type": "code",
   "execution_count": null,
   "metadata": {},
   "outputs": [],
   "source": [
    "mpath = gdsmf_fn\n",
    "opath = gdsmdH_fn\n",
    "if not os.path.isfile(opath):\n",
    "    raster_calc(mpath, apath, operation='add', output_path=opath)\n",
    "else:\n",
    "    print('already created')"
   ]
  },
  {
   "cell_type": "code",
   "execution_count": 8,
   "metadata": {},
   "outputs": [],
   "source": [
    "# add the HPO in region we have more LiDAR like in the MKD"
   ]
  },
  {
   "cell_type": "code",
   "execution_count": null,
   "metadata": {},
   "outputs": [],
   "source": [
    "\t27001X\t27001 # GRID "
   ]
  }
 ],
 "metadata": {
  "kernelspec": {
   "display_name": "agluon",
   "language": "python",
   "name": "python3"
  },
  "language_info": {
   "codemirror_mode": {
    "name": "ipython",
    "version": 3
   },
   "file_extension": ".py",
   "mimetype": "text/x-python",
   "name": "python",
   "nbconvert_exporter": "python",
   "pygments_lexer": "ipython3",
   "version": "3.11.11"
  }
 },
 "nbformat": 4,
 "nbformat_minor": 2
}
