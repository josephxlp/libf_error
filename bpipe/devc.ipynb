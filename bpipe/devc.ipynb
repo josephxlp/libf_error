{
 "cells": [
  {
   "cell_type": "code",
   "execution_count": null,
   "metadata": {},
   "outputs": [],
   "source": [
    "import os \n",
    "import sys \n",
    "from glob import glob\n",
    "libb_prox_dpath = '/home/ljp238/Documents/UoE/libb_prox'\n",
    "sys.path.append(libb_prox_dpath)\n",
    "from rtransforms import raster_calc"
   ]
  },
  {
   "cell_type": "code",
   "execution_count": 6,
   "metadata": {},
   "outputs": [],
   "source": [
    "grid_fn = \"/media/ljp238/12TBWolf/RSPROX/OUT_TILES/BLOCKS/TLS/grid.vrt\"\n",
    "egm_fn = \"/media/ljp238/12TBWolf/RSPROX/OUT_TILES/BLOCKS/TLS/egm08.vrt\"\n",
    "gdemd_fn = \"/media/ljp238/12TBWolf/RSPROX/OUT_TILES/BLOCKS/TLS/gdemd.tif\"\n",
    "gdemdH_fn = \"/media/ljp238/12TBWolf/RSPROX/OUT_TILES/BLOCKS/TLS/gdemH.tif\""
   ]
  },
  {
   "cell_type": "code",
   "execution_count": 7,
   "metadata": {},
   "outputs": [
    {
     "name": "stdout",
     "output_type": "stream",
     "text": [
      "Arquivo salvo em: /media/ljp238/12TBWolf/RSPROX/OUT_TILES/BLOCKS/TLS/gdemH.tif\n"
     ]
    }
   ],
   "source": [
    "apath = grid_fn\n",
    "mpath = gdemd_fn\n",
    "opath = gdemdH_fn\n",
    "if not os.path.isfile(opath):\n",
    "    raster_calc(mpath, apath, operation='add', output_path=opath)\n",
    "else:\n",
    "    print('already created')"
   ]
  },
  {
   "cell_type": "code",
   "execution_count": 8,
   "metadata": {},
   "outputs": [],
   "source": [
    "# add the HPO in region we have more LiDAR like in the MKD"
   ]
  },
  {
   "cell_type": "code",
   "execution_count": null,
   "metadata": {},
   "outputs": [],
   "source": []
  }
 ],
 "metadata": {
  "kernelspec": {
   "display_name": "agluon",
   "language": "python",
   "name": "python3"
  },
  "language_info": {
   "codemirror_mode": {
    "name": "ipython",
    "version": 3
   },
   "file_extension": ".py",
   "mimetype": "text/x-python",
   "name": "python",
   "nbconvert_exporter": "python",
   "pygments_lexer": "ipython3",
   "version": "3.11.11"
  }
 },
 "nbformat": 4,
 "nbformat_minor": 2
}
