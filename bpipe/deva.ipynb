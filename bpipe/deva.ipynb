{
 "cells": [
  {
   "cell_type": "markdown",
   "metadata": {},
   "source": [
    "#### Block Processing"
   ]
  },
  {
   "cell_type": "code",
   "execution_count": 10,
   "metadata": {},
   "outputs": [],
   "source": [
    "import os \n",
    "from glob import glob\n",
    "from geotile import mosaic"
   ]
  },
  {
   "cell_type": "markdown",
   "metadata": {},
   "source": [
    "##### Merge"
   ]
  },
  {
   "cell_type": "markdown",
   "metadata": {},
   "source": [
    "block merge [x]:\n",
    "- gdem v and f \n",
    "- tdem v and f \n"
   ]
  },
  {
   "cell_type": "code",
   "execution_count": null,
   "metadata": {},
   "outputs": [],
   "source": [
    "tilenames_tls = [\n",
    " 'N11E104',\n",
    " 'N11E105',\n",
    " 'N12E103',\n",
    " 'N12E104',\n",
    " 'N12E105',\n",
    " 'N13E103',\n",
    " 'N13E104',\n",
    " 'N13E105']\n",
    "\n",
    "\n",
    "grid_filesi = glob(\"/media/ljp238/12TBWolf/RSPROX/OUT_TILES/TILES12/*/*EDEM_GRID.tif\")\n",
    "egm_filesi = glob(\"/media/ljp238/12TBWolf/RSPROX/OUT_TILES/TILES12/*/*EGM08.tif\")\n",
    "\n",
    "tdemf_filesi =  glob(\"/media/ljp238/12TBWolf/RSPROX/OUT_TILES/TILES12/*/vfill/*DEM__Fw_mlinterps.tif\")\n",
    "tdemv_filesi = glob(\"/media/ljp238/12TBWolf/RSPROX/OUT_TILES/TILES12/*/*tdem_DEM__Fw.tif\")\n",
    "\n",
    "gdemv_filesi = glob(\"/media/ljp238/12TBWolf/RSPROX/GEDI_GRID/tiles/*/*GEDI03_elev_lowestmode_mean_2019108_2022019_002_03_EPSG4326.tif\")\n",
    "gdemf_filesi = glob('/media/ljp238/12TBWolf/RSPROX/GEDI_GRID/tiles/*/*GEDI03_elev_lowestmode_mean_2019108_2022019_002_03_EPSG4326_mlinterps.tif')\n",
    "roi = 'TLS'\n",
    "blocks_dpath = f\"/media/ljp238/12TBWolf/RSPROX/OUT_TILES/BLOCKS/{roi}\"\n",
    "os.makedirs(blocks_dpath, exist_ok=True)"
   ]
  },
  {
   "cell_type": "code",
   "execution_count": 53,
   "metadata": {},
   "outputs": [],
   "source": [
    "import subprocess\n",
    "\n",
    "def list2txt(txt_file,filelist):\n",
    "    with open(txt_file, 'w') as f:\n",
    "        for tif in filelist:\n",
    "            f.write(f\"{tif}\\n\")\n",
    "    print('list2txt')\n",
    "    \n",
    "def build_vrt(filelist,vrt_file):\n",
    "\n",
    "    # g\n",
    "    txt_file = vrt_file.replace('.vrt', '.txt')\n",
    "   # gpkg_file = vrt_file.replace('.vrt', '.gpkg')\n",
    "\n",
    "    if not os.path.isfile(vrt_file):\n",
    "        list2txt(txt_file,filelist)\n",
    "        subprocess.run(['gdalbuildvrt', '-input_file_list', txt_file, vrt_file])\n",
    "\n",
    "    print(f\"VRT created: {vrt_file}\")\n",
    "# do the other vrt python function too []"
   ]
  },
  {
   "cell_type": "code",
   "execution_count": 70,
   "metadata": {},
   "outputs": [],
   "source": [
    "def build_tileindex(filelist, gkpg_file):\n",
    "    txt_file = gkpg_file.replace('.gpkg', '.txt')\n",
    "    if not os.path.isfile(gkpg_file):\n",
    "        list2txt(txt_file,filelist)\n",
    "        subprocess.run(['gdaltindex', gkpg_file,'--optfile', txt_file])\n",
    "        print(f\"GPKG created: {gkpg_file}\")\n"
   ]
  },
  {
   "cell_type": "code",
   "execution_count": 71,
   "metadata": {},
   "outputs": [],
   "source": [
    "gdemf_files = [i for i in gdemf_filesi for t in tilenames_tls if t in i]\n",
    "gdemv_files = [i for i in gdemv_filesi for t in tilenames_tls if t in i]\n",
    "tdemv_files = [i for i in tdemv_filesi for t in tilenames_tls if t in i]\n",
    "tdemf_files = [i for i in tdemf_filesi for t in tilenames_tls if t in i]\n",
    "\n",
    "assert len(tdemf_files) == len(tdemv_files) == len(gdemf_files) == len(gdemv_files),'files list != length'\n",
    "\n",
    "grid_files = [i for i in grid_filesi for t in tilenames_tls if t in i]\n",
    "egm_files = [i for i in egm_filesi for t in tilenames_tls if t in i]\n",
    "\n",
    "assert len(tdemf_files) == len(tdemv_files) == len(grid_files) == len(egm_files),'files list != length'"
   ]
  },
  {
   "cell_type": "code",
   "execution_count": 72,
   "metadata": {},
   "outputs": [
    {
     "name": "stdout",
     "output_type": "stream",
     "text": [
      "VRT created: /media/ljp238/12TBWolf/RSPROX/OUT_TILES/BLOCKS/TLS/grid.vrt\n",
      "VRT created: /media/ljp238/12TBWolf/RSPROX/OUT_TILES/BLOCKS/TLS/egm08.vrt\n"
     ]
    }
   ],
   "source": [
    "vrt_grid = f'{blocks_dpath}/grid.vrt'\n",
    "vrt_egm = f'{blocks_dpath}/egm08.vrt'\n",
    "build_vrt(grid_files,vrt_grid)\n",
    "build_vrt(egm_files,vrt_egm)"
   ]
  },
  {
   "cell_type": "code",
   "execution_count": 73,
   "metadata": {},
   "outputs": [
    {
     "name": "stdout",
     "output_type": "stream",
     "text": [
      "VRT created: /media/ljp238/12TBWolf/RSPROX/OUT_TILES/BLOCKS/TLS/gdemf.vrt\n",
      "VRT created: /media/ljp238/12TBWolf/RSPROX/OUT_TILES/BLOCKS/TLS/gdemv.vrt\n",
      "VRT created: /media/ljp238/12TBWolf/RSPROX/OUT_TILES/BLOCKS/TLS/tdemv.vrt\n",
      "VRT created: /media/ljp238/12TBWolf/RSPROX/OUT_TILES/BLOCKS/TLS/tdemf.vrt\n"
     ]
    }
   ],
   "source": [
    "vrt_tf = f'{blocks_dpath}/tdemf.vrt'\n",
    "vrt_tv = f'{blocks_dpath}/tdemv.vrt'\n",
    "vrt_gf = f'{blocks_dpath}/gdemf.vrt'\n",
    "vrt_gv = f'{blocks_dpath}/gdemv.vrt'\n",
    "build_vrt(gdemf_files,vrt_gf)\n",
    "build_vrt(gdemv_files,vrt_gv)\n",
    "build_vrt(tdemv_files,vrt_tv)\n",
    "build_vrt(tdemf_files,vrt_tf)"
   ]
  },
  {
   "cell_type": "code",
   "execution_count": 74,
   "metadata": {},
   "outputs": [
    {
     "name": "stdout",
     "output_type": "stream",
     "text": [
      "list2txt\n",
      "GPKG created: /media/ljp238/12TBWolf/RSPROX/OUT_TILES/BLOCKS/TLS/TLS_tindex.gpkg\n"
     ]
    }
   ],
   "source": [
    "gpkg = f'{blocks_dpath}/{roi}_tindex.gpkg'\n",
    "build_tileindex(tdemf_files, gpkg)"
   ]
  },
  {
   "cell_type": "markdown",
   "metadata": {},
   "source": [
    "##### translate to tifs "
   ]
  },
  {
   "cell_type": "code",
   "execution_count": 63,
   "metadata": {},
   "outputs": [],
   "source": [
    "# geoids 1 and 2, and then, make them all in tifs"
   ]
  },
  {
   "cell_type": "code",
   "execution_count": null,
   "metadata": {},
   "outputs": [],
   "source": []
  },
  {
   "cell_type": "code",
   "execution_count": null,
   "metadata": {},
   "outputs": [],
   "source": []
  }
 ],
 "metadata": {
  "kernelspec": {
   "display_name": "agluon",
   "language": "python",
   "name": "python3"
  },
  "language_info": {
   "codemirror_mode": {
    "name": "ipython",
    "version": 3
   },
   "file_extension": ".py",
   "mimetype": "text/x-python",
   "name": "python",
   "nbconvert_exporter": "python",
   "pygments_lexer": "ipython3",
   "version": "3.11.11"
  }
 },
 "nbformat": 4,
 "nbformat_minor": 2
}
