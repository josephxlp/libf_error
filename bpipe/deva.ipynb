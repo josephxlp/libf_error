{
 "cells": [
  {
   "cell_type": "markdown",
   "metadata": {},
   "source": [
    "#### Block Processing"
   ]
  },
  {
   "cell_type": "markdown",
   "metadata": {},
   "source": [
    "##### Merge"
   ]
  },
  {
   "cell_type": "markdown",
   "metadata": {},
   "source": [
    "block merge [x]:\n",
    "- gdem v and f \n",
    "- tdem v and f \n"
   ]
  },
  {
   "cell_type": "code",
   "execution_count": 2,
   "metadata": {},
   "outputs": [],
   "source": [
    "import os \n",
    "from glob import glob\n",
    "from geotile import mosaic\n",
    "from utils import build_tileindex,build_vrt\n",
    "from uvars import RSPROX_DPATH,BLOCKS_DPATH"
   ]
  },
  {
   "cell_type": "code",
   "execution_count": 4,
   "metadata": {},
   "outputs": [],
   "source": [
    "tilenames_tls = [\n",
    " 'N11E104',\n",
    " 'N11E105',\n",
    " 'N12E103',\n",
    " 'N12E104',\n",
    " 'N12E105',\n",
    " 'N13E103',\n",
    " 'N13E104',\n",
    " 'N13E105']\n",
    "\n",
    "roi = 'TLS'\n",
    "blocks_dpath = f\"{BLOCKS_DPATH}/{roi}\"\n",
    "os.makedirs(blocks_dpath, exist_ok=True)"
   ]
  },
  {
   "cell_type": "code",
   "execution_count": 5,
   "metadata": {},
   "outputs": [],
   "source": [
    "grid_filesi = glob(f\"{RSPROX_DPATH}/OUT_TILES/TILES12/*/*EDEM_GRID.tif\")\n",
    "egm_filesi = glob(f\"{RSPROX_DPATH}/OUT_TILES/TILES12/*/*EGM08.tif\")\n",
    "\n",
    "tdemf_filesi = glob(f\"{RSPROX_DPATH}/OUT_TILES/TILES12/*/vfill/*DEM__Fw_mlinterps.tif\")\n",
    "tdemv_filesi = glob(f\"{RSPROX_DPATH}/OUT_TILES/TILES12/*/*tdem_DEM__Fw.tif\")\n",
    "\n",
    "gdemv_filesi = glob(f\"{RSPROX_DPATH}/GEDI_GRID/tiles/*/*elev_lowestmode_mean_2019108_2022019_002_03_EPSG4326.tif\")\n",
    "gdemf_filesi = glob(f'{RSPROX_DPATH}/GEDI_GRID/tiles/*/*elev_lowestmode_mean_2019108_2022019_002_03_EPSG4326_mlinterps.tif')\n",
    "\n",
    "gdsmf_filesi = glob(f\"{RSPROX_DPATH}/GEDI_GRID/tiles/*/*rh100_mean_2019108_2022019_002_03_EPSG4326_mlinterps.tif\")\n",
    "gdsmv_filesi = glob(f\"{RSPROX_DPATH}/GEDI_GRID/tiles/*/*rh100_mean_2019108_2022019_002_03_EPSG4326.tif\")\n",
    "\n",
    "gdemf_files = [i for i in gdemf_filesi for t in tilenames_tls if t in i]\n",
    "gdemv_files = [i for i in gdemv_filesi for t in tilenames_tls if t in i]\n",
    "tdemv_files = [i for i in tdemv_filesi for t in tilenames_tls if t in i]\n",
    "tdemf_files = [i for i in tdemf_filesi for t in tilenames_tls if t in i]\n",
    "gdsmf_files = [i for i in gdsmf_filesi for t in tilenames_tls if t in i]\n",
    "gdsmv_files = [i for i in gdsmv_filesi for t in tilenames_tls if t in i]\n",
    "\n",
    "assert len(tdemf_files) == len(tdemv_files) == len(gdemf_files) == len(gdemv_files),'files list != length'\n",
    "assert len(gdsmv_files) == len(gdsmf_files) == len(gdemf_files) == len(gdemv_files),'files list != length'\n",
    "grid_files = [i for i in grid_filesi for t in tilenames_tls if t in i]\n",
    "egm_files = [i for i in egm_filesi for t in tilenames_tls if t in i]\n",
    "\n",
    "assert len(tdemf_files) == len(tdemv_files) == len(grid_files) == len(egm_files),'files list != length'"
   ]
  },
  {
   "cell_type": "code",
   "execution_count": 6,
   "metadata": {},
   "outputs": [
    {
     "name": "stdout",
     "output_type": "stream",
     "text": [
      "/media/ljp238/12TBWolf/RSPROX/OUT_TILES/BLOCKS/TLS/grid.vrt\n",
      "VRT created: /media/ljp238/12TBWolf/RSPROX/OUT_TILES/BLOCKS/TLS/grid.vrt\n",
      "/media/ljp238/12TBWolf/RSPROX/OUT_TILES/BLOCKS/TLS/egm08.vrt\n",
      "VRT created: /media/ljp238/12TBWolf/RSPROX/OUT_TILES/BLOCKS/TLS/egm08.vrt\n",
      "/media/ljp238/12TBWolf/RSPROX/OUT_TILES/BLOCKS/TLS/gdemf.vrt\n",
      "VRT created: /media/ljp238/12TBWolf/RSPROX/OUT_TILES/BLOCKS/TLS/gdemf.vrt\n",
      "/media/ljp238/12TBWolf/RSPROX/OUT_TILES/BLOCKS/TLS/gdemv.vrt\n",
      "VRT created: /media/ljp238/12TBWolf/RSPROX/OUT_TILES/BLOCKS/TLS/gdemv.vrt\n",
      "/media/ljp238/12TBWolf/RSPROX/OUT_TILES/BLOCKS/TLS/tdemf.vrt\n",
      "VRT created: /media/ljp238/12TBWolf/RSPROX/OUT_TILES/BLOCKS/TLS/tdemf.vrt\n",
      "/media/ljp238/12TBWolf/RSPROX/OUT_TILES/BLOCKS/TLS/tdemv.vrt\n",
      "VRT created: /media/ljp238/12TBWolf/RSPROX/OUT_TILES/BLOCKS/TLS/tdemv.vrt\n",
      "/media/ljp238/12TBWolf/RSPROX/OUT_TILES/BLOCKS/TLS/gdsmf.vrt\n",
      "VRT created: /media/ljp238/12TBWolf/RSPROX/OUT_TILES/BLOCKS/TLS/gdsmf.vrt\n",
      "/media/ljp238/12TBWolf/RSPROX/OUT_TILES/BLOCKS/TLS/gdsmv.vrt\n",
      "VRT created: /media/ljp238/12TBWolf/RSPROX/OUT_TILES/BLOCKS/TLS/gdsmv.vrt\n"
     ]
    }
   ],
   "source": [
    "filelist = [grid_files, egm_files, gdemf_files, gdemv_files,\n",
    "            tdemf_files,tdemv_files,gdsmf_files,gdsmv_files]\n",
    "namelist = ['grid', 'egm08','gdemf','gdemv',\n",
    "            'tdemf','tdemv','gdsmf','gdsmv']\n",
    "\n",
    "assert len(namelist) == len(filelist), 'list length different'\n",
    "for name, files in zip(namelist, filelist):\n",
    "    vrt = f'{blocks_dpath}/{name}.vrt'\n",
    "    print(vrt)\n",
    "    build_vrt(files,vrt)"
   ]
  },
  {
   "cell_type": "code",
   "execution_count": 7,
   "metadata": {},
   "outputs": [],
   "source": [
    "gpkg = f'{blocks_dpath}/{roi}_tindex.gpkg'\n",
    "build_tileindex(tdemf_files, gpkg)"
   ]
  },
  {
   "cell_type": "markdown",
   "metadata": {},
   "source": [
    "##### translate to tifs "
   ]
  },
  {
   "cell_type": "code",
   "execution_count": null,
   "metadata": {},
   "outputs": [],
   "source": []
  },
  {
   "cell_type": "code",
   "execution_count": null,
   "metadata": {},
   "outputs": [],
   "source": []
  }
 ],
 "metadata": {
  "kernelspec": {
   "display_name": "agluon",
   "language": "python",
   "name": "python3"
  },
  "language_info": {
   "codemirror_mode": {
    "name": "ipython",
    "version": 3
   },
   "file_extension": ".py",
   "mimetype": "text/x-python",
   "name": "python",
   "nbconvert_exporter": "python",
   "pygments_lexer": "ipython3",
   "version": "3.11.11"
  }
 },
 "nbformat": 4,
 "nbformat_minor": 2
}
