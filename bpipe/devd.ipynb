{
 "cells": [
  {
   "cell_type": "markdown",
   "metadata": {},
   "source": [
    "steps:\n",
    "- clip [x]\n",
    "- send to rolf \n",
    "- need to work on a more permanent solution [x] just use the ML for fusion"
   ]
  },
  {
   "cell_type": "code",
   "execution_count": null,
   "metadata": {},
   "outputs": [],
   "source": []
  },
  {
   "cell_type": "code",
   "execution_count": 20,
   "metadata": {},
   "outputs": [],
   "source": [
    "import os \n",
    "from glob import glob"
   ]
  },
  {
   "cell_type": "code",
   "execution_count": 21,
   "metadata": {},
   "outputs": [],
   "source": [
    "#gdemH_fn = '/media/ljp238/12TBWolf/RSPROX/OUT_TILES/BLOCKS/TLS/gdemH.tif'\n",
    "tdemv_filesi = glob(\"/media/ljp238/12TBWolf/RSPROX/OUT_TILES/TILES12/*/*tdem_DEM__Fw.tif\")\n",
    "tilenames_tls = [\n",
    " 'N11E104',\n",
    " 'N11E105',\n",
    " 'N12E103',\n",
    " 'N12E104',\n",
    " 'N12E105',\n",
    " 'N13E103',\n",
    " 'N13E104',\n",
    " 'N13E105']\n",
    "roi = 'TLS'\n",
    "block_tiles_dpath = f\"/media/ljp238/12TBWolf/RSPROX/OUT_TILES/BLOCKS/{roi}/tiles\"\n",
    "os.makedirs(block_tiles_dpath, exist_ok=True)\n",
    "\n",
    "tdemv_files = [i for i in tdemv_filesi for t in tilenames_tls if t in i]"
   ]
  },
  {
   "cell_type": "code",
   "execution_count": 22,
   "metadata": {},
   "outputs": [],
   "source": [
    "import os\n",
    "import rasterio\n",
    "from rasterio.mask import mask\n",
    "from shapely.geometry import box\n",
    "from concurrent.futures import ProcessPoolExecutor\n",
    "\n",
    "\n",
    "def get_tile_name(tdemv_path):\n",
    "    \"\"\"Extract tile name from the directory structure.\"\"\"\n",
    "    return os.path.basename(os.path.dirname(tdemv_path))\n",
    "\n",
    "\n",
    "def clip_raster(gdemH_fn, tdemv, output_dir):\n",
    "    \"\"\"Clip a large raster using a single reference raster and save the output.\"\"\"\n",
    "    try:\n",
    "        with rasterio.open(gdemH_fn) as src, rasterio.open(tdemv) as tdemv_src:\n",
    "            clip_bounds = tdemv_src.bounds  # Get bounding box\n",
    "            geom = [box(*clip_bounds)]  # Convert to a polygon\n",
    "\n",
    "            out_image, out_transform = mask(src, geom, crop=True)\n",
    "            out_meta = src.meta.copy()\n",
    "            out_meta.update({\n",
    "                \"driver\": \"GTiff\",\n",
    "                \"height\": out_image.shape[1],\n",
    "                \"width\": out_image.shape[2],\n",
    "                \"transform\": out_transform\n",
    "            })\n",
    "\n",
    "            tilename = get_tile_name(tdemv)\n",
    "            output_fn = os.path.join(output_dir, f\"{tilename}_DTM_GV4.tif\")\n",
    "\n",
    "            with rasterio.open(output_fn, \"w\", **out_meta) as dest:\n",
    "                dest.write(out_image)\n",
    "\n",
    "            print(f\"Saved: {output_fn}\")\n",
    "            return output_fn\n",
    "\n",
    "    except Exception as e:\n",
    "        print(f\"Error processing {tdemv}: {e}\")\n",
    "        return None\n",
    "\n",
    "\n",
    "def process_clipping_parallel(gdemH_fn, tdemv_files, output_dir, num_workers=4):\n",
    "    \"\"\"Parallelized processing of raster clipping.\"\"\"\n",
    "    os.makedirs(output_dir, exist_ok=True)\n",
    "\n",
    "    with ProcessPoolExecutor(max_workers=num_workers) as executor:\n",
    "        futures = {executor.submit(clip_raster, gdemH_fn, tdemv, output_dir): tdemv for tdemv in tdemv_files}\n",
    "\n",
    "        for future in futures:\n",
    "            future.result()  # Wait for completion\n"
   ]
  },
  {
   "cell_type": "code",
   "execution_count": 28,
   "metadata": {},
   "outputs": [],
   "source": [
    "tls_dtm_fn = '/media/ljp238/12TBWolf/RSPROX/OUT_TILES/BLOCKS/TLS/DOWNX/DTM/TLS_DTM_H.tif'\n",
    "tls_dsm_fn = '/media/ljp238/12TBWolf/RSPROX/OUT_TILES/BLOCKS/TLS/DOWNX/DSM/TLS_DTM_H.tif'"
   ]
  },
  {
   "cell_type": "code",
   "execution_count": 29,
   "metadata": {},
   "outputs": [
    {
     "name": "stdout",
     "output_type": "stream",
     "text": [
      "Saved: /media/ljp238/12TBWolf/RSPROX/OUT_TILES/BLOCKS/TLS/DOWNX/DTM/tiles/N13E105_DTM_GV4.tif\n",
      "Saved: /media/ljp238/12TBWolf/RSPROX/OUT_TILES/BLOCKS/TLS/DOWNX/DTM/tiles/N13E103_DTM_GV4.tif\n",
      "Saved: /media/ljp238/12TBWolf/RSPROX/OUT_TILES/BLOCKS/TLS/DOWNX/DTM/tiles/N13E104_DTM_GV4.tif\n",
      "Saved: /media/ljp238/12TBWolf/RSPROX/OUT_TILES/BLOCKS/TLS/DOWNX/DTM/tiles/N12E104_DTM_GV4.tif\n",
      "Saved: /media/ljp238/12TBWolf/RSPROX/OUT_TILES/BLOCKS/TLS/DOWNX/DTM/tiles/N11E105_DTM_GV4.tif\n",
      "Saved: /media/ljp238/12TBWolf/RSPROX/OUT_TILES/BLOCKS/TLS/DOWNX/DTM/tiles/N12E103_DTM_GV4.tif\n",
      "Saved: /media/ljp238/12TBWolf/RSPROX/OUT_TILES/BLOCKS/TLS/DOWNX/DTM/tiles/N12E105_DTM_GV4.tif\n",
      "Saved: /media/ljp238/12TBWolf/RSPROX/OUT_TILES/BLOCKS/TLS/DOWNX/DTM/tiles/N11E104_DTM_GV4.tif\n"
     ]
    }
   ],
   "source": [
    "dtm_tile_dpath = '/media/ljp238/12TBWolf/RSPROX/OUT_TILES/BLOCKS/TLS/DOWNX/DTM/tiles/'\n",
    "process_clipping_parallel(tls_dtm_fn, tdemv_files, dtm_tile_dpath, num_workers=15)"
   ]
  },
  {
   "cell_type": "code",
   "execution_count": 30,
   "metadata": {},
   "outputs": [
    {
     "name": "stdout",
     "output_type": "stream",
     "text": [
      "Saved: /media/ljp238/12TBWolf/RSPROX/OUT_TILES/BLOCKS/TLS/DOWNX/DSM/tiles/N13E105_DTM_GV4.tif\n",
      "Saved: /media/ljp238/12TBWolf/RSPROX/OUT_TILES/BLOCKS/TLS/DOWNX/DSM/tiles/N13E103_DTM_GV4.tif\n",
      "Saved: /media/ljp238/12TBWolf/RSPROX/OUT_TILES/BLOCKS/TLS/DOWNX/DSM/tiles/N12E104_DTM_GV4.tif\n",
      "Saved: /media/ljp238/12TBWolf/RSPROX/OUT_TILES/BLOCKS/TLS/DOWNX/DSM/tiles/N12E103_DTM_GV4.tif\n",
      "Saved: /media/ljp238/12TBWolf/RSPROX/OUT_TILES/BLOCKS/TLS/DOWNX/DSM/tiles/N12E105_DTM_GV4.tif\n",
      "Saved: /media/ljp238/12TBWolf/RSPROX/OUT_TILES/BLOCKS/TLS/DOWNX/DSM/tiles/N13E104_DTM_GV4.tif\n",
      "Saved: /media/ljp238/12TBWolf/RSPROX/OUT_TILES/BLOCKS/TLS/DOWNX/DSM/tiles/N11E104_DTM_GV4.tif\n",
      "Saved: /media/ljp238/12TBWolf/RSPROX/OUT_TILES/BLOCKS/TLS/DOWNX/DSM/tiles/N11E105_DTM_GV4.tif\n"
     ]
    }
   ],
   "source": [
    "dsm_tile_dpath = \"/media/ljp238/12TBWolf/RSPROX/OUT_TILES/BLOCKS/TLS/DOWNX/DSM/tiles\"\n",
    "process_clipping_parallel(tls_dsm_fn, tdemv_files, dsm_tile_dpath, num_workers=15)"
   ]
  },
  {
   "cell_type": "code",
   "execution_count": 32,
   "metadata": {},
   "outputs": [],
   "source": [
    "# work with DSMh\n",
    "#dsm_tile_dpath = \"/media/ljp238/12TBWolf/RSPROX/OUT_TILES/BLOCKS/TLS/DOWNX/DSM/tiles2\"\n",
    "#process_clipping_parallel(tls_dsm_fn, tdemv_files, dsm_tile_dpath, num_workers=15)"
   ]
  },
  {
   "cell_type": "code",
   "execution_count": 23,
   "metadata": {},
   "outputs": [],
   "source": [
    "#process_clipping_parallel(gdemH_fn, tdemv_files, block_tiles_dpath, num_workers=10)"
   ]
  },
  {
   "cell_type": "code",
   "execution_count": 17,
   "metadata": {},
   "outputs": [],
   "source": [
    "import subprocess\n",
    "\n",
    "def list2txt(txt_file,filelist):\n",
    "    with open(txt_file, 'w') as f:\n",
    "        for tif in filelist:\n",
    "            f.write(f\"{tif}\\n\")\n",
    "    print('list2txt')\n",
    "    \n",
    "def build_vrt(filelist,vrt_file):\n",
    "\n",
    "    # g\n",
    "    txt_file = vrt_file.replace('.vrt', '.txt')\n",
    "   # gpkg_file = vrt_file.replace('.vrt', '.gpkg')\n",
    "\n",
    "    if not os.path.isfile(vrt_file):\n",
    "        list2txt(txt_file,filelist)\n",
    "        subprocess.run(['gdalbuildvrt', '-input_file_list', txt_file, vrt_file])\n",
    "\n",
    "    print(f\"VRT created: {vrt_file}\")"
   ]
  },
  {
   "cell_type": "code",
   "execution_count": 19,
   "metadata": {},
   "outputs": [
    {
     "name": "stdout",
     "output_type": "stream",
     "text": [
      "list2txt\n",
      "0...10...20...30...40...50...60...70...80...90...100 - done.\n",
      "VRT created: /media/ljp238/12TBWolf/RSPROX/OUT_TILES/BLOCKS/TLS/GV4.vrt\n"
     ]
    }
   ],
   "source": [
    "files = glob(\"/media/ljp238/12TBWolf/RSPROX/OUT_TILES/BLOCKS/TLS/tiles/*.tif\")\n",
    "vrt = '/media/ljp238/12TBWolf/RSPROX/OUT_TILES/BLOCKS/TLS/GV4.vrt'\n",
    "build_vrt(files,vrt)"
   ]
  },
  {
   "cell_type": "code",
   "execution_count": null,
   "metadata": {},
   "outputs": [],
   "source": []
  },
  {
   "cell_type": "code",
   "execution_count": null,
   "metadata": {},
   "outputs": [],
   "source": []
  },
  {
   "cell_type": "code",
   "execution_count": null,
   "metadata": {},
   "outputs": [],
   "source": [
    "gdemH_fn this a big raster, cut it by this files tdemv_files\n",
    "save as \n",
    "tilename = tdemv_files[i].split('/')[-2]\n",
    "fo = os.path.join(block_tiles_dpath, f'{tilename}_DTM_GV4.tif')\n",
    "# goal is to clip the data "
   ]
  }
 ],
 "metadata": {
  "kernelspec": {
   "display_name": "agluon",
   "language": "python",
   "name": "python3"
  },
  "language_info": {
   "codemirror_mode": {
    "name": "ipython",
    "version": 3
   },
   "file_extension": ".py",
   "mimetype": "text/x-python",
   "name": "python",
   "nbconvert_exporter": "python",
   "pygments_lexer": "ipython3",
   "version": "3.11.11"
  }
 },
 "nbformat": 4,
 "nbformat_minor": 2
}
