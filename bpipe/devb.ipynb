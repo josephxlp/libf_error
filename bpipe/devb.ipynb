{
 "cells": [
  {
   "cell_type": "code",
   "execution_count": 2,
   "metadata": {},
   "outputs": [],
   "source": [
    "import os \n",
    "import sys \n",
    "from glob import glob \n",
    "libd_rsdx_dpath = '/home/ljp238/Documents/UoE/libd_rsdx'\n",
    "libb_prox_dpath = '/home/ljp238/Documents/UoE/libb_prox'"
   ]
  },
  {
   "cell_type": "code",
   "execution_count": null,
   "metadata": {},
   "outputs": [],
   "source": [
    "sys.path.append(libd_rsdx_dpath)\n",
    "from utils import gwr_grid_downscaling # block tls 10min"
   ]
  },
  {
   "cell_type": "code",
   "execution_count": 9,
   "metadata": {},
   "outputs": [],
   "source": [
    "gdemf_fn = '/media/ljp238/12TBWolf/RSPROX/OUT_TILES/BLOCKS/TLS/gdemf.vrt'\n",
    "tdemf_fn = '/media/ljp238/12TBWolf/RSPROX/OUT_TILES/BLOCKS/TLS/tdemf.vrt'\n",
    "gdemd_fn = '/media/ljp238/12TBWolf/RSPROX/OUT_TILES/BLOCKS/TLS/gdemd.tif'\n",
    "\n",
    "rfpath = gdemd_fn\n",
    "hfpath = tdemf_fn\n",
    "lfpath = gdemf_fn\n",
    "\n",
    "epsg = 4326#4979"
   ]
  },
  {
   "cell_type": "code",
   "execution_count": 10,
   "metadata": {},
   "outputs": [
    {
     "name": "stdout",
     "output_type": "stream",
     "text": [
      "____________________________\n",
      "\n",
      "   #####   ##   #####    ##\n",
      "  ###     ###  ##       ###\n",
      "   ###   # ## ##  #### # ##\n",
      "    ### ##### ##    # #####\n",
      " ##### #   ##  ##### #   ##\n",
      "____________________________\n",
      "\n",
      "SAGA Version: 8.2.2\n",
      "\n",
      "____________________________\n",
      "library path: /usr/lib/x86_64-linux-gnu/saga/\n",
      "library name: libstatistics_regression\n",
      "library     : statistics_regression\n",
      "tool        : GWR for Grid Downscaling\n",
      "identifier  : 14\n",
      "author      : O.Conrad (c) 2013\n",
      "processors  : 56 [56]\n",
      "____________________________\n",
      "\n",
      "loading: tdemf\n",
      "\n",
      "100%\n",
      "loading: gdemf\n",
      "\n",
      "100%\n",
      "[GWR for Grid Downscaling] Execution started...\n",
      "\n",
      "__________\n",
      "[GWR for Grid Downscaling] Parameters:\n",
      "\n",
      "Grid System: 0.000111; 27001x 27001y; 103x 11y\n",
      "Predictors: 1 object (tdemf)\n",
      "Regression: Regression\n",
      "Regression with Residual Correction: <not set>\n",
      "Dependent Variable: gdemf\n",
      "Coefficient of Determination: Coefficient of Determination\n",
      "Residuals: Residuals\n",
      "Regression Parameters: No objects\n",
      "Logistic Regression: false\n",
      "Output of Model Parameters: true\n",
      "Search Range: local\n",
      "Search Distance [Cells]: 10\n",
      "Weighting Function: gaussian\n",
      "Bandwidth: 4\n",
      "\n",
      "upscaling of predictors\n",
      "\n",
      "100%\n",
      "model creation\n",
      "\n",
      "100%downscaling\n",
      "\n",
      "101%\n",
      "__________\n",
      "total execution time: 194000 milliseconds (03m 14s)\n",
      "\n",
      "[GWR for Grid Downscaling] Execution succeeded (03m 14s)\n",
      "\n",
      "Saving grid: /media/ljp238/12TBWolf/RSPROX/OUT_TILES/BLOCKS/TLS/gdemd.tif...\n",
      "Export GeoTIFF\n",
      "\n",
      "__________\n",
      "[Export GeoTIFF] Parameters:\n",
      "\n",
      "Grid System: 0.000111; 27001x 27001y; 103x 11y\n",
      "Grid(s): 1 object (gdemd)\n",
      "File: /media/ljp238/12TBWolf/RSPROX/OUT_TILES/BLOCKS/TLS/gdemd.tif\n",
      "Creation Options: \n",
      "\n",
      "Band 1\n",
      "\n",
      "100%\n",
      "100%\n",
      "\n",
      "[Export GeoTIFF] execution time: 01m 19s\n",
      "okay\n"
     ]
    },
    {
     "name": "stderr",
     "output_type": "stream",
     "text": [
      "Segmentation fault (core dumped)\n"
     ]
    },
    {
     "name": "stdout",
     "output_type": "stream",
     "text": [
      "! The file \"/media/ljp238/12TBWolf/RSPROX/OUT_TILES/BLOCKS/TLS/gdemd.tif\" already exists.\n",
      "GWR Grid Downscaling completed.\n",
      "Cleaning up intermediate files...\n",
      "/media/ljp238/12TBWolf/RSPROX/OUT_TILES/BLOCKS/TLS\n",
      "Removing /media/ljp238/12TBWolf/RSPROX/OUT_TILES/BLOCKS/TLS/egm08.txt...\n",
      "Removing /media/ljp238/12TBWolf/RSPROX/OUT_TILES/BLOCKS/TLS/egm08.vrt...\n",
      "Removing /media/ljp238/12TBWolf/RSPROX/OUT_TILES/BLOCKS/TLS/gdemf.txt...\n",
      "Removing /media/ljp238/12TBWolf/RSPROX/OUT_TILES/BLOCKS/TLS/gdemf.vrt...\n",
      "Removing /media/ljp238/12TBWolf/RSPROX/OUT_TILES/BLOCKS/TLS/gdemv.txt...\n",
      "Removing /media/ljp238/12TBWolf/RSPROX/OUT_TILES/BLOCKS/TLS/gdemv.vrt...\n",
      "Removing /media/ljp238/12TBWolf/RSPROX/OUT_TILES/BLOCKS/TLS/grid.txt...\n",
      "Removing /media/ljp238/12TBWolf/RSPROX/OUT_TILES/BLOCKS/TLS/grid.vrt...\n",
      "Removing /media/ljp238/12TBWolf/RSPROX/OUT_TILES/BLOCKS/TLS/tdemf.txt...\n",
      "Removing /media/ljp238/12TBWolf/RSPROX/OUT_TILES/BLOCKS/TLS/tdemf.vrt...\n",
      "Removing /media/ljp238/12TBWolf/RSPROX/OUT_TILES/BLOCKS/TLS/tdemv.txt...\n",
      "Removing /media/ljp238/12TBWolf/RSPROX/OUT_TILES/BLOCKS/TLS/tdemv.vrt...\n",
      "Removing /media/ljp238/12TBWolf/RSPROX/OUT_TILES/BLOCKS/TLS/TLS_tindex.gpkg...\n",
      "Removing /media/ljp238/12TBWolf/RSPROX/OUT_TILES/BLOCKS/TLS/TLS_tindex.txt...\n"
     ]
    }
   ],
   "source": [
    "if not os.path.isfile(rfpath):\n",
    "    gwr_grid_downscaling(xpath=hfpath, ypath=lfpath, \n",
    "                             opath=rfpath, oaux=False,\n",
    "                             epsg_code=epsg,clean=True)\n",
    "else:\n",
    "    print('already created')"
   ]
  },
  {
   "cell_type": "code",
   "execution_count": null,
   "metadata": {},
   "outputs": [],
   "source": []
  }
 ],
 "metadata": {
  "kernelspec": {
   "display_name": "agluon",
   "language": "python",
   "name": "python3"
  },
  "language_info": {
   "codemirror_mode": {
    "name": "ipython",
    "version": 3
   },
   "file_extension": ".py",
   "mimetype": "text/x-python",
   "name": "python",
   "nbconvert_exporter": "python",
   "pygments_lexer": "ipython3",
   "version": "3.11.11"
  }
 },
 "nbformat": 4,
 "nbformat_minor": 2
}
