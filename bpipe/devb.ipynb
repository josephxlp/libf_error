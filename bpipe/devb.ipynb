{
 "cells": [
  {
   "cell_type": "code",
   "execution_count": 1,
   "metadata": {},
   "outputs": [],
   "source": [
    "import os \n",
    "import sys \n",
    "from glob import glob \n",
    "from uvars import libd_rsdx_dpath,libb_prox_dpath\n",
    "from uvars import gdemf_fn,gdsmf_fn,tdemf_fn,gdemd_fn,gdsmd_fn\n",
    "from gutils import file_exists"
   ]
  },
  {
   "cell_type": "code",
   "execution_count": 2,
   "metadata": {},
   "outputs": [],
   "source": [
    "sys.path.append(libd_rsdx_dpath)\n",
    "from utils import gwr_grid_downscaling # block tls 10min"
   ]
  },
  {
   "cell_type": "code",
   "execution_count": 3,
   "metadata": {},
   "outputs": [],
   "source": [
    "file_exists(gdemf_fn)\n",
    "file_exists(gdsmf_fn)\n",
    "file_exists(tdemf_fn)"
   ]
  },
  {
   "cell_type": "code",
   "execution_count": 4,
   "metadata": {},
   "outputs": [],
   "source": [
    "rfpath = gdemd_fn\n",
    "hfpath = tdemf_fn\n",
    "lfpath = gdemf_fn\n",
    "epsg = 4326#4979"
   ]
  },
  {
   "cell_type": "code",
   "execution_count": 5,
   "metadata": {},
   "outputs": [
    {
     "name": "stdout",
     "output_type": "stream",
     "text": [
      "already created\n"
     ]
    }
   ],
   "source": [
    "if not os.path.isfile(rfpath):\n",
    "    gwr_grid_downscaling(xpath=hfpath, ypath=lfpath, \n",
    "                             opath=rfpath, oaux=False,\n",
    "                             epsg_code=epsg,clean=True)\n",
    "else:\n",
    "    print('already created')"
   ]
  },
  {
   "cell_type": "code",
   "execution_count": null,
   "metadata": {},
   "outputs": [],
   "source": [
    "rfpath = gdsmd_fn\n",
    "lfpath = gdsmf_fn\n",
    "hfpath = tdemf_fn\n",
    "if not os.path.isfile(rfpath):\n",
    "    gwr_grid_downscaling(xpath=hfpath, ypath=lfpath, \n",
    "                             opath=rfpath, oaux=False,\n",
    "                             epsg_code=epsg,clean=True)\n",
    "else:\n",
    "    print('already created')"
   ]
  },
  {
   "cell_type": "code",
   "execution_count": null,
   "metadata": {},
   "outputs": [],
   "source": []
  }
 ],
 "metadata": {
  "kernelspec": {
   "display_name": "agluon",
   "language": "python",
   "name": "python3"
  },
  "language_info": {
   "codemirror_mode": {
    "name": "ipython",
    "version": 3
   },
   "file_extension": ".py",
   "mimetype": "text/x-python",
   "name": "python",
   "nbconvert_exporter": "python",
   "pygments_lexer": "ipython3",
   "version": "3.11.11"
  }
 },
 "nbformat": 4,
 "nbformat_minor": 2
}
