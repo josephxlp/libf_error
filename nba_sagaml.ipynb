{
 "cells": [
  {
   "cell_type": "code",
   "execution_count": 1,
   "metadata": {},
   "outputs": [],
   "source": [
    "import matplotlib.pyplot as plt \n",
    "import rasterio \n",
    "import numpy as np \n",
    "import pandas as pd \n",
    "import os \n",
    "import glob"
   ]
  },
  {
   "cell_type": "code",
   "execution_count": 2,
   "metadata": {},
   "outputs": [],
   "source": [
    "from upaths import prox_dpath,gedi_dpath,pred_dpath"
   ]
  },
  {
   "cell_type": "code",
   "execution_count": 3,
   "metadata": {},
   "outputs": [],
   "source": [
    "tilename = \"S02W064\""
   ]
  },
  {
   "cell_type": "code",
   "execution_count": 4,
   "metadata": {},
   "outputs": [],
   "source": [
    "def get_tile_tifs(dpath, tilename):\n",
    "    tile_files = glob.glob(f'{dpath}/{tilename}/*.tif')\n",
    "    assert len(tile_files) > 0, 'No files found'\n",
    "    return tile_files\n",
    "\n",
    "def filter_12m_files(tile_files):\n",
    "    tile_filex = [i for i in tile_files if '12.tif' in i]\n",
    "    return tile_filex\n",
    "\n",
    "\n",
    "def filter_files_byvar(tile_files, var):\n",
    "    return [i for i in tile_files if var in i] "
   ]
  },
  {
   "cell_type": "code",
   "execution_count": 6,
   "metadata": {},
   "outputs": [],
   "source": [
    "gedi_files =  get_tile_tifs(gedi_dpath, tilename)\n",
    "gedi_files = filter_12m_files(gedi_files)\n",
    "gedi_dsme = filter_files_byvar(gedi_files, 'dsmE')[0]\n",
    "gedi_dtme = filter_files_byvar(gedi_files, 'dtmE')[0]\n",
    "\n",
    "gedi_dsmt = filter_files_byvar(gedi_files, 'dsmT')[0]\n",
    "gedi_dtmt = filter_files_byvar(gedi_files, 'dtmT')[0]\n",
    "\n",
    "#gedi_dsmt,gedi_dtmt,gedi_dtme,gedi_dsme"
   ]
  },
  {
   "cell_type": "code",
   "execution_count": 7,
   "metadata": {},
   "outputs": [],
   "source": [
    "prox_files = get_tile_tifs(prox_dpath, tilename)\n",
    "prox_edem = filter_files_byvar(prox_files, 'edem_W84.tif')[0]\n",
    "prox_pdem = filter_files_byvar(prox_files, 'NegroAOIDTM.tif')[0]\n",
    "prox_tdem = filter_files_byvar(prox_files, 'tdem_DEM.tif')[0]\n",
    "prox_vdem = filter_files_byvar(prox_files, 'tdem_DEM__Fw.tif')[0]\n",
    "prox_ldem = filter_files_byvar(prox_files, 'DTM_LiDAR.tif')[0]\n",
    "#prox_pdem,prox_edem,prox_vdem,prox_tdem,prox_ldem "
   ]
  },
  {
   "cell_type": "code",
   "execution_count": 9,
   "metadata": {},
   "outputs": [],
   "source": [
    "pred_dname = \"iter10000_n236435487_eqallxtile\"\n",
    "pred_tpath = f\"{pred_dpath}/{pred_dname}\"\n",
    "pred_files = get_tile_tifs(pred_tpath, tilename)\n",
    "pred_dtme = filter_files_byvar(pred_files, 'edem')[0]\n",
    "#pred_dtme"
   ]
  },
  {
   "cell_type": "code",
   "execution_count": 63,
   "metadata": {},
   "outputs": [],
   "source": [
    "# aggreae error min,max, rmse and stuff"
   ]
  },
  {
   "cell_type": "code",
   "execution_count": 64,
   "metadata": {},
   "outputs": [],
   "source": [
    "import rasterio\n",
    "import numpy as np\n",
    "import matplotlib.pyplot as plt\n",
    "from skimage.metrics import structural_similarity as ssim, peak_signal_noise_ratio as psnr\n",
    "from sklearn.metrics import mean_squared_error, r2_score\n",
    "\n",
    "def read_raster(file_path):\n",
    "    \"\"\"Reads a raster file and replaces nodata values with NaN.\"\"\"\n",
    "    with rasterio.open(file_path) as src:\n",
    "        data = src.read(1)\n",
    "        data = np.where(data == src.nodata, np.nan, data)\n",
    "    return data\n",
    "\n",
    "def compute_metrics(image1, image2):\n",
    "    \"\"\"Computes RMSE, R², SSIM, and PSNR between two images.\"\"\"\n",
    "    mask = ~np.isnan(image1) & ~np.isnan(image2)  # Ensure valid comparisons\n",
    "    img1, img2 = image1[mask], image2[mask]\n",
    "\n",
    "    rmse = np.sqrt(mean_squared_error(img1, img2))\n",
    "    r2 = r2_score(img1, img2)\n",
    "    ssim_value = ssim(img1.reshape(image1.shape), img2.reshape(image2.shape), data_range=img2.max() - img2.min())\n",
    "    psnr_value = psnr(img1, img2, data_range=img2.max() - img2.min())\n",
    "\n",
    "    return {\"RMSE\": rmse, \"R²\": r2, \"SSIM\": ssim_value, \"PSNR\": psnr_value}\n",
    "\n",
    "def plot_rasters(dtm_path, dsm_path):\n",
    "    \"\"\"Reads, plots, and computes metrics for DTM and DSM rasters.\"\"\"\n",
    "    dtm = read_raster(dtm_path)\n",
    "    dsm = read_raster(dsm_path)\n",
    "\n",
    "    metrics = compute_metrics(dtm, dsm)\n",
    "    print(\"Image Quality Metrics:\", metrics)\n",
    "\n",
    "    fig, ax = plt.subplots(1, 2, figsize=(12, 6))\n",
    "    ax[0].imshow(dtm, cmap='terrain')\n",
    "    ax[0].set_title(\"DTM (Bare Earth)\")\n",
    "\n",
    "    ax[1].imshow(dsm, cmap='terrain')\n",
    "    ax[1].set_title(\"DSM (Surface Model)\")\n",
    "\n",
    "    plt.show()\n",
    "    return metrics\n",
    "\n",
    "# Example usage\n",
    "# metrics = plot_rasters(\"path/to/tile_gdtm.tif\", \"path/to/tile_gdsm.tif\")\n"
   ]
  },
  {
   "cell_type": "code",
   "execution_count": null,
   "metadata": {},
   "outputs": [],
   "source": []
  }
 ],
 "metadata": {
  "kernelspec": {
   "display_name": "agluon",
   "language": "python",
   "name": "python3"
  },
  "language_info": {
   "codemirror_mode": {
    "name": "ipython",
    "version": 3
   },
   "file_extension": ".py",
   "mimetype": "text/x-python",
   "name": "python",
   "nbconvert_exporter": "python",
   "pygments_lexer": "ipython3",
   "version": "3.11.11"
  }
 },
 "nbformat": 4,
 "nbformat_minor": 2
}
