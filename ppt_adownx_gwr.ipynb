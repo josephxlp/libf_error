{
 "cells": [
  {
   "cell_type": "code",
   "execution_count": 1,
   "metadata": {},
   "outputs": [],
   "source": [
    "import os \n",
    "import sys \n",
    "from glob import glob \n",
    "\n",
    "from upaths import libd_rsdx_dpath \n",
    "from upaths import libb_prox_dpath\n",
    "sys.path.append(libd_rsdx_dpath)\n",
    "from utils import gwr_grid_downscaling\n",
    "\n",
    "sys.path.append(libb_prox_dpath)\n",
    "from rtransforms import raster_calc\n",
    "# def raster_calc(dsm_path, dtm_path, operation, output_path):\n",
    "epsg = 4326"
   ]
  },
  {
   "cell_type": "code",
   "execution_count": 2,
   "metadata": {},
   "outputs": [
    {
     "name": "stdout",
     "output_type": "stream",
     "text": [
      "17\n",
      "17\n"
     ]
    }
   ],
   "source": [
    "bpattern = \"/media/ljp238/12TBWolf/RSPROX/OUTPUT_TILES/DEMVFILL/TILES12/*/*_mlinterps.tif\"\n",
    "tpattern = \"/media/ljp238/12TBWolf/RSPROX/GEDI_GRID/tiles/*/*GEDI03_elev_lowestmode_mean_2019108_2022019_002_03_EPSG4326_mlinterps.tif\"\n",
    "bfiles = glob(bpattern)\n",
    "tfiles = glob(tpattern)\n",
    "assert len(bfiles) == len(tfiles), 'files donnot match'\n",
    "print(len(bfiles))\n",
    "print(len(tfiles))"
   ]
  },
  {
   "cell_type": "markdown",
   "metadata": {},
   "source": [
    "Steps:\n",
    "- run gwr [x]\n",
    "- fillna \n",
    "    - gdal []\n",
    "    - geoww []\n",
    "- height horthometric \n",
    "- height harmonization"
   ]
  },
  {
   "cell_type": "markdown",
   "metadata": {},
   "source": [
    "step 1: downx"
   ]
  },
  {
   "cell_type": "code",
   "execution_count": 3,
   "metadata": {},
   "outputs": [],
   "source": [
    "outdir = \"/media/ljp238/12TBWolf/RSPROX/OUTPUT_TILES/DEMDOWNX/TILE12/\"\n",
    "dset = 'GEDI03_dtm'"
   ]
  },
  {
   "cell_type": "code",
   "execution_count": 4,
   "metadata": {},
   "outputs": [],
   "source": [
    "def downx_gwr(hfpath,lfpath,outdir,tilename,dset,epsg):\n",
    "    if os.path.isfile(hfpath) & os.path.isfile(lfpath):\n",
    "        print('lfpath and hfpath exist' )\n",
    "        tilename = lfpath.split('/')[-2]\n",
    "        tile_dopath = os.path.join(outdir, tilename)\n",
    "        os.makedirs(tile_dopath,exist_ok=True)\n",
    "    rfpath = os.path.join(tile_dopath, f'{tilename}_{dset}_WGS.tif')\n",
    "    if not os.path.isfile(rfpath):\n",
    "        gwr_grid_downscaling(xpath=hfpath, ypath=lfpath, \n",
    "                             opath=rfpath, oaux=False,\n",
    "                             epsg_code=epsg,clean=True)\n",
    "    else:\n",
    "        print('already created')"
   ]
  },
  {
   "cell_type": "code",
   "execution_count": 5,
   "metadata": {},
   "outputs": [
    {
     "name": "stdout",
     "output_type": "stream",
     "text": [
      "lfpath and hfpath exist\n",
      "already created\n"
     ]
    }
   ],
   "source": [
    "for i in range(len(tfiles)):\n",
    "    if i > 0 : break\n",
    "    lfpath = tfiles[i]\n",
    "    hfpath = bfiles[i]\n",
    "    #print(f'{hfpath}\\n{lfpath}')\n",
    "    if os.path.isfile(hfpath) & os.path.isfile(lfpath):\n",
    "        print('lfpath and hfpath exist' )\n",
    "        tilename = lfpath.split('/')[-2]\n",
    "        tile_dopath = os.path.join(outdir, tilename)\n",
    "        os.makedirs(tile_dopath,exist_ok=True)\n",
    "    rfpath = os.path.join(tile_dopath, f'{tilename}_{dset}_WGS.tif')\n",
    "    if not os.path.isfile(rfpath):\n",
    "        gwr_grid_downscaling(xpath=hfpath, ypath=lfpath, \n",
    "                             opath=rfpath, oaux=False,\n",
    "                             epsg_code=epsg,clean=True)\n",
    "    else:\n",
    "        print('already created')\n"
   ]
  },
  {
   "cell_type": "markdown",
   "metadata": {},
   "source": [
    "step 2 fillna"
   ]
  },
  {
   "cell_type": "code",
   "execution_count": 7,
   "metadata": {},
   "outputs": [],
   "source": [
    "grid_pattern = \"/media/ljp238/12TBWolf/RSPROX/OUT_TILES/TILES12/*/*_EDEM_GRID.tif\" \n",
    "dowx_pattern = \"/media/ljp238/12TBWolf/RSPROX/OUTPUT_TILES/DEMDOWNX/TILE12/*/*_GEDI03_dtm_WGS.tif\""
   ]
  },
  {
   "cell_type": "markdown",
   "metadata": {},
   "source": [
    "step 3"
   ]
  },
  {
   "cell_type": "code",
   "execution_count": 8,
   "metadata": {},
   "outputs": [],
   "source": [
    "grid_pattern = \"/media/ljp238/12TBWolf/RSPROX/OUT_TILES/TILES12/*/*_EDEM_GRID.tif\" \n",
    "dowx_pattern = \"/media/ljp238/12TBWolf/RSPROX/OUTPUT_TILES/DEMDOWNX/TILE12/*/*_GEDI03_dtm_WGS.tif\"\n",
    "\n",
    "dfiles = glob(dowx_pattern)\n",
    "gfiles = glob(grid_pattern)\n",
    "assert len(gfiles) == len(dfiles), 'files donnot match'"
   ]
  },
  {
   "cell_type": "code",
   "execution_count": 11,
   "metadata": {},
   "outputs": [
    {
     "name": "stdout",
     "output_type": "stream",
     "text": [
      "Arquivo salvo em: /media/ljp238/12TBWolf/RSPROX/OUTPUT_TILES/DEMDOWNX/TILE12/N09E105/N09E105_GEDI03_dtm_EGM.tif\n"
     ]
    }
   ],
   "source": [
    "for i in range(len(dfiles)):\n",
    "    if i > 0 : break\n",
    "    dfpath = dfiles[i]\n",
    "    gfpath = gfiles[i]\n",
    "    #print(f'{hfpath}\\n{lfpath}')\n",
    "    if os.path.isfile(gfpath) & os.path.isfile(dfpath):\n",
    "        rfpath = dfpath.replace('WGS','EGM')\n",
    "    if not os.path.isfile(rfpath):\n",
    "        raster_calc(dfpath, gfpath, operation='add', output_path=rfpath)\n",
    "    else:\n",
    "        print('already created')\n",
    "\n",
    "    "
   ]
  },
  {
   "cell_type": "code",
   "execution_count": 10,
   "metadata": {},
   "outputs": [
    {
     "data": {
      "text/plain": [
       "'/media/ljp238/12TBWolf/RSPROX/OUTPUT_TILES/DEMDOWNX/TILE12/N09E105/N09E105_GEDI03_dtm_EGM.tif'"
      ]
     },
     "execution_count": 10,
     "metadata": {},
     "output_type": "execute_result"
    }
   ],
   "source": [
    "rfpath"
   ]
  },
  {
   "cell_type": "code",
   "execution_count": null,
   "metadata": {},
   "outputs": [],
   "source": []
  }
 ],
 "metadata": {
  "kernelspec": {
   "display_name": "agluon",
   "language": "python",
   "name": "python3"
  },
  "language_info": {
   "codemirror_mode": {
    "name": "ipython",
    "version": 3
   },
   "file_extension": ".py",
   "mimetype": "text/x-python",
   "name": "python",
   "nbconvert_exporter": "python",
   "pygments_lexer": "ipython3",
   "version": "3.11.11"
  }
 },
 "nbformat": 4,
 "nbformat_minor": 2
}
