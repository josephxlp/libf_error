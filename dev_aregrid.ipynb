{
 "cells": [
  {
   "cell_type": "code",
   "execution_count": 5,
   "metadata": {},
   "outputs": [],
   "source": [
    "import os \n",
    "import sys \n",
    "from glob import glob\n",
    "from upaths import (libb_prox_dpath,libd_rsdx_dpath,\n",
    "                        tls_spath,mkd_spath,rng_spath,\n",
    "                        tls_bpath,mkd_bpath,rng_bpath,\n",
    "                        EANA_dpath,gedi_egm_pattern,\n",
    "                        OUT_TILES_TILES12_dpath,\n",
    "                        DEMDOWNX_TILE12_dpath)\n",
    "\n",
    "from libf_rutils import crop_raster_by_vector\n",
    "#from rutils import gdal_regrid\n",
    "\n",
    "# S1, S2, egem_grid, egm08, cdem, edem"
   ]
  },
  {
   "cell_type": "code",
   "execution_count": 6,
   "metadata": {},
   "outputs": [],
   "source": [
    "def get_file(tile_files, endswith='cdem_DEM.tif'):\n",
    "    cdem_fn = [i for i in tile_files if i.endswith(endswith)]\n",
    "    assert len(cdem_fn) == 1, 'More than one file found'\n",
    "    cdem_fn = cdem_fn[0]\n",
    "    return cdem_fn"
   ]
  },
  {
   "cell_type": "code",
   "execution_count": 7,
   "metadata": {},
   "outputs": [],
   "source": [
    "# Lista de sufixos para filtragem dos arquivos\n",
    "file_suffixes = ['cdem_DEM.tif', 'EDEM_GRID.tif', 'EGM08.tif', 'EGM96.tif', 'DTM_LiDAR.tif', \n",
    "                 'S1X.tif', 'S2.tif', 'NegroAOIDTM.tif', 'LWM.tif']"
   ]
  },
  {
   "cell_type": "code",
   "execution_count": 8,
   "metadata": {},
   "outputs": [],
   "source": [
    "tilenames = ['S01W063','N10E105', 'N13E103']\n",
    "b_vfiles =  [rng_bpath, mkd_bpath, tls_bpath]\n",
    "s_vfiles = [rng_spath, mkd_spath, tls_spath]\n",
    "#roi = 'B'\n",
    "roi = 'S'"
   ]
  },
  {
   "cell_type": "code",
   "execution_count": null,
   "metadata": {},
   "outputs": [],
   "source": [
    "\n",
    "for i in range(len(tilenames)):\n",
    "   # if i > 0: break\n",
    "    \n",
    "    tilename = tilenames[i]\n",
    "    if roi == 'B':\n",
    "        vfile = b_vfiles[i]\n",
    "    elif roi == 'S':\n",
    "        vfile = s_vfiles[i]\n",
    "    print(f'{tilename} : {vfile}')\n",
    "    gedi_egm_file = f\"{DEMDOWNX_TILE12_dpath}/{tilename}/{tilename}_GEDI03_dtm_EGM.tif\"\n",
    "    print(gedi_egm_file)\n",
    "    tile_files =  glob(f'{OUT_TILES_TILES12_dpath}/{tilename}/*.tif')\n",
    "    ftile_files = [i for i in tile_files for j in file_suffixes if i.endswith(j)]\n",
    "    ftile_files.append(gedi_egm_file)\n",
    "    for fi in ftile_files:\n",
    "        if os.path.isfile(fi):\n",
    "            print(fi)\n",
    "            tile_opath = os.path.join(EANA_dpath,roi,tilename)\n",
    "            os.makedirs(tile_opath, exist_ok=True)\n",
    "            fo = os.path.join(tile_opath, os.path.basename(fi))\n",
    "            crop_raster_by_vector(fo, fi, vfile)\n",
    "\n"
   ]
  }
 ],
 "metadata": {
  "kernelspec": {
   "display_name": "agluon",
   "language": "python",
   "name": "python3"
  },
  "language_info": {
   "codemirror_mode": {
    "name": "ipython",
    "version": 3
   },
   "file_extension": ".py",
   "mimetype": "text/x-python",
   "name": "python",
   "nbconvert_exporter": "python",
   "pygments_lexer": "ipython3",
   "version": "3.11.11"
  }
 },
 "nbformat": 4,
 "nbformat_minor": 2
}
